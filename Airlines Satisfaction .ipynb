{
 "cells": [
  {
   "cell_type": "markdown",
   "id": "bfbb1690",
   "metadata": {},
   "source": [
    "# Airline Passenger Satisfaction"
   ]
  },
  {
   "cell_type": "markdown",
   "id": "295cfc2d",
   "metadata": {},
   "source": [
    "What factors lead to customer satisfaction for an Airline?"
   ]
  },
  {
   "cell_type": "markdown",
   "id": "73a1fe97",
   "metadata": {},
   "source": [
    "\n",
    "## Appendex\n",
    "- Cick on the links:\n",
    "    >1.  <a href=#imports>Imports</a>\n",
    "    >2.  <a href=#loaddata>Load Data</a>\n",
    "    >3.  <a href=#dataformating>Data Formating & Feature Engineering</a>\n",
    "    >4.  <a href=#Expl>Create X and y</a>\n",
    "    >5.  <a href=#Ques> Dummy variables and label encoder </a>\n",
    "    >6.  <a href=#d> Split the data</a>\n",
    "    >7.  <a href=#b> Baseline Model </a>\n",
    "    >8.  <a herf=#ss>Standerd Scale with grid search</a>\n",
    "    >9.  <a herf=#ssss> Decision Tree & GridSearchCV Tune the parameters</a>\n",
    "    >10. <a herf=#Rf>Random Forest with GridSearchCV Tune the parameters</a>\n",
    "    >11. <a herf=#we>Soft voting </a>\n",
    "    >12. <a herf=#sc>  Stacking Classifier </a>  \n",
    "    >13. <a herf=#cm> Confution Matrix </a> \n",
    "    >14. <a herf=#jp>  XGboost</a>       \n",
    "\n",
    "    "
   ]
  },
  {
   "cell_type": "markdown",
   "id": "68a76294",
   "metadata": {},
   "source": [
    "# Abstract"
   ]
  },
  {
   "cell_type": "markdown",
   "id": "6e99726e",
   "metadata": {},
   "source": [
    "What factors lead to customer satisfaction for an Airline? This dataset contains an airline passenger satisfaction survey. What factors are highly correlated to a satisfied (or dissatisfied) passenger? Can you predict passenger satisfaction?"
   ]
  },
  {
   "cell_type": "markdown",
   "id": "66564349",
   "metadata": {},
   "source": [
    "# Design"
   ]
  },
  {
   "cell_type": "markdown",
   "id": "29cc4975",
   "metadata": {},
   "source": [
    "This project is one of the T5 Data Science Boot Camp requirements. Data provided by Kaggle. In this module we will be laying the foundation for our analysis by processing and exploring a large amount of data and classify it by using classification modules. The dataset contains an airline passenger satisfaction survey. \n",
    "\n"
   ]
  },
  {
   "cell_type": "markdown",
   "id": "762c7610",
   "metadata": {},
   "source": [
    "# <a name='imports' > Import Libraries </a>"
   ]
  },
  {
   "cell_type": "code",
   "execution_count": 1,
   "id": "9e50222b",
   "metadata": {},
   "outputs": [],
   "source": [
    "import numpy as np\n",
    "import pandas as pd\n",
    "import matplotlib.pyplot as plt\n",
    "import warnings\n",
    "warnings.filterwarnings(\"ignore\")\n",
    "import seaborn as sns\n",
    "sns.set()\n",
    "# modeling imports\n",
    "from sklearn.metrics import accuracy_score\n",
    "import pickle\n",
    "from sklearn import model_selection\n",
    "from sklearn.linear_model import LogisticRegression\n",
    "from sklearn.model_selection import GridSearchCV\n",
    "from sklearn.model_selection import train_test_split\n",
    "from sklearn.metrics import precision_score, recall_score, accuracy_score, roc_auc_score\n",
    "from sklearn.metrics import confusion_matrix\n",
    "from sklearn.preprocessing import StandardScaler\n",
    "from sklearn.preprocessing import LabelEncoder\n",
    "from sklearn.neighbors import KNeighborsClassifier\n",
    "from sklearn.tree import DecisionTreeClassifier\n",
    "from sklearn.ensemble import RandomForestClassifier, ExtraTreesClassifier, VotingClassifier\n",
    "from sklearn.metrics import precision_score, recall_score, precision_recall_curve, fbeta_score,f1_score ,confusion_matrix, classification_report, make_scorer\n",
    "from mlxtend.classifier import StackingClassifier # <-- note: this is not from sklearn!\n",
    "from sklearn import linear_model, neighbors, ensemble\n",
    "import xgboost as xgb\n",
    "sns.set_style(\"whitegrid\")"
   ]
  },
  {
   "cell_type": "code",
   "execution_count": 2,
   "id": "045b495b",
   "metadata": {},
   "outputs": [],
   "source": [
    "def model_eval(mdl_local, X_local, y_local, bta = 1):\n",
    "    y_pred = mdl_local.predict(X_local)\n",
    "    print(f\"F({bta}):\", fbeta_score(y_local, y_pred, beta= bta))\n",
    "    print(\"Precision :\", precision_score(y_local, y_pred))\n",
    "    print(\"Recall :\", recall_score(y_local, y_pred))\n",
    "    \n",
    "\n",
    "def make_confusion_matrix(model, X_local, y_local, threshold=0.5):\n",
    "    # Predict class 1 if probability of being in class 1 is greater than threshold\n",
    "    # (model.predict(X_test) does this automatically with a threshold of 0.5)\n",
    "    y_predict = (model.predict_proba(X_local)[:, 1] >= threshold)\n",
    "    fraud_confusion = confusion_matrix(y_local, y_predict)\n",
    "    plt.figure(dpi=80)\n",
    "    sns.heatmap(fraud_confusion, cmap=plt.cm.Blues, annot=True, square=True, fmt='d',\n",
    "           xticklabels=['Satisfied', 'Dissatisfied'],\n",
    "           yticklabels=['Satisfied', 'Dissatisfied']);\n",
    "    plt.xlabel('prediction')\n",
    "    plt.ylabel('actual')\n"
   ]
  },
  {
   "cell_type": "markdown",
   "id": "b11b2800",
   "metadata": {},
   "source": [
    "# <a name='loaddata' > Load Data </a>"
   ]
  },
  {
   "cell_type": "code",
   "execution_count": 3,
   "id": "ffecda95",
   "metadata": {},
   "outputs": [],
   "source": [
    "df = pd.read_csv('Airline.csv')"
   ]
  },
  {
   "cell_type": "code",
   "execution_count": 4,
   "id": "258f590f",
   "metadata": {},
   "outputs": [
    {
     "data": {
      "text/html": [
       "<div>\n",
       "<style scoped>\n",
       "    .dataframe tbody tr th:only-of-type {\n",
       "        vertical-align: middle;\n",
       "    }\n",
       "\n",
       "    .dataframe tbody tr th {\n",
       "        vertical-align: top;\n",
       "    }\n",
       "\n",
       "    .dataframe thead th {\n",
       "        text-align: right;\n",
       "    }\n",
       "</style>\n",
       "<table border=\"1\" class=\"dataframe\">\n",
       "  <thead>\n",
       "    <tr style=\"text-align: right;\">\n",
       "      <th></th>\n",
       "      <th>Unnamed: 0</th>\n",
       "      <th>id</th>\n",
       "      <th>Gender</th>\n",
       "      <th>Customer Type</th>\n",
       "      <th>Age</th>\n",
       "      <th>Type of Travel</th>\n",
       "      <th>Class</th>\n",
       "      <th>Flight Distance</th>\n",
       "      <th>Inflight wifi service</th>\n",
       "      <th>Departure/Arrival time convenient</th>\n",
       "      <th>...</th>\n",
       "      <th>Inflight entertainment</th>\n",
       "      <th>On-board service</th>\n",
       "      <th>Leg room service</th>\n",
       "      <th>Baggage handling</th>\n",
       "      <th>Checkin service</th>\n",
       "      <th>Inflight service</th>\n",
       "      <th>Cleanliness</th>\n",
       "      <th>Departure Delay in Minutes</th>\n",
       "      <th>Arrival Delay in Minutes</th>\n",
       "      <th>satisfaction</th>\n",
       "    </tr>\n",
       "  </thead>\n",
       "  <tbody>\n",
       "    <tr>\n",
       "      <th>0</th>\n",
       "      <td>0</td>\n",
       "      <td>19556</td>\n",
       "      <td>Female</td>\n",
       "      <td>Loyal Customer</td>\n",
       "      <td>52</td>\n",
       "      <td>Business travel</td>\n",
       "      <td>Eco</td>\n",
       "      <td>160</td>\n",
       "      <td>5</td>\n",
       "      <td>4</td>\n",
       "      <td>...</td>\n",
       "      <td>5</td>\n",
       "      <td>5</td>\n",
       "      <td>5</td>\n",
       "      <td>5</td>\n",
       "      <td>2</td>\n",
       "      <td>5</td>\n",
       "      <td>5</td>\n",
       "      <td>50</td>\n",
       "      <td>44.0</td>\n",
       "      <td>satisfied</td>\n",
       "    </tr>\n",
       "    <tr>\n",
       "      <th>1</th>\n",
       "      <td>1</td>\n",
       "      <td>90035</td>\n",
       "      <td>Female</td>\n",
       "      <td>Loyal Customer</td>\n",
       "      <td>36</td>\n",
       "      <td>Business travel</td>\n",
       "      <td>Business</td>\n",
       "      <td>2863</td>\n",
       "      <td>1</td>\n",
       "      <td>1</td>\n",
       "      <td>...</td>\n",
       "      <td>4</td>\n",
       "      <td>4</td>\n",
       "      <td>4</td>\n",
       "      <td>4</td>\n",
       "      <td>3</td>\n",
       "      <td>4</td>\n",
       "      <td>5</td>\n",
       "      <td>0</td>\n",
       "      <td>0.0</td>\n",
       "      <td>satisfied</td>\n",
       "    </tr>\n",
       "    <tr>\n",
       "      <th>2</th>\n",
       "      <td>2</td>\n",
       "      <td>12360</td>\n",
       "      <td>Male</td>\n",
       "      <td>disloyal Customer</td>\n",
       "      <td>20</td>\n",
       "      <td>Business travel</td>\n",
       "      <td>Eco</td>\n",
       "      <td>192</td>\n",
       "      <td>2</td>\n",
       "      <td>0</td>\n",
       "      <td>...</td>\n",
       "      <td>2</td>\n",
       "      <td>4</td>\n",
       "      <td>1</td>\n",
       "      <td>3</td>\n",
       "      <td>2</td>\n",
       "      <td>2</td>\n",
       "      <td>2</td>\n",
       "      <td>0</td>\n",
       "      <td>0.0</td>\n",
       "      <td>neutral or dissatisfied</td>\n",
       "    </tr>\n",
       "    <tr>\n",
       "      <th>3</th>\n",
       "      <td>3</td>\n",
       "      <td>77959</td>\n",
       "      <td>Male</td>\n",
       "      <td>Loyal Customer</td>\n",
       "      <td>44</td>\n",
       "      <td>Business travel</td>\n",
       "      <td>Business</td>\n",
       "      <td>3377</td>\n",
       "      <td>0</td>\n",
       "      <td>0</td>\n",
       "      <td>...</td>\n",
       "      <td>1</td>\n",
       "      <td>1</td>\n",
       "      <td>1</td>\n",
       "      <td>1</td>\n",
       "      <td>3</td>\n",
       "      <td>1</td>\n",
       "      <td>4</td>\n",
       "      <td>0</td>\n",
       "      <td>6.0</td>\n",
       "      <td>satisfied</td>\n",
       "    </tr>\n",
       "    <tr>\n",
       "      <th>4</th>\n",
       "      <td>4</td>\n",
       "      <td>36875</td>\n",
       "      <td>Female</td>\n",
       "      <td>Loyal Customer</td>\n",
       "      <td>49</td>\n",
       "      <td>Business travel</td>\n",
       "      <td>Eco</td>\n",
       "      <td>1182</td>\n",
       "      <td>2</td>\n",
       "      <td>3</td>\n",
       "      <td>...</td>\n",
       "      <td>2</td>\n",
       "      <td>2</td>\n",
       "      <td>2</td>\n",
       "      <td>2</td>\n",
       "      <td>4</td>\n",
       "      <td>2</td>\n",
       "      <td>4</td>\n",
       "      <td>0</td>\n",
       "      <td>20.0</td>\n",
       "      <td>satisfied</td>\n",
       "    </tr>\n",
       "  </tbody>\n",
       "</table>\n",
       "<p>5 rows × 25 columns</p>\n",
       "</div>"
      ],
      "text/plain": [
       "   Unnamed: 0     id  Gender      Customer Type  Age   Type of Travel  \\\n",
       "0           0  19556  Female     Loyal Customer   52  Business travel   \n",
       "1           1  90035  Female     Loyal Customer   36  Business travel   \n",
       "2           2  12360    Male  disloyal Customer   20  Business travel   \n",
       "3           3  77959    Male     Loyal Customer   44  Business travel   \n",
       "4           4  36875  Female     Loyal Customer   49  Business travel   \n",
       "\n",
       "      Class  Flight Distance  Inflight wifi service  \\\n",
       "0       Eco              160                      5   \n",
       "1  Business             2863                      1   \n",
       "2       Eco              192                      2   \n",
       "3  Business             3377                      0   \n",
       "4       Eco             1182                      2   \n",
       "\n",
       "   Departure/Arrival time convenient  ...  Inflight entertainment  \\\n",
       "0                                  4  ...                       5   \n",
       "1                                  1  ...                       4   \n",
       "2                                  0  ...                       2   \n",
       "3                                  0  ...                       1   \n",
       "4                                  3  ...                       2   \n",
       "\n",
       "   On-board service  Leg room service  Baggage handling  Checkin service  \\\n",
       "0                 5                 5                 5                2   \n",
       "1                 4                 4                 4                3   \n",
       "2                 4                 1                 3                2   \n",
       "3                 1                 1                 1                3   \n",
       "4                 2                 2                 2                4   \n",
       "\n",
       "   Inflight service  Cleanliness  Departure Delay in Minutes  \\\n",
       "0                 5            5                          50   \n",
       "1                 4            5                           0   \n",
       "2                 2            2                           0   \n",
       "3                 1            4                           0   \n",
       "4                 2            4                           0   \n",
       "\n",
       "   Arrival Delay in Minutes             satisfaction  \n",
       "0                      44.0                satisfied  \n",
       "1                       0.0                satisfied  \n",
       "2                       0.0  neutral or dissatisfied  \n",
       "3                       6.0                satisfied  \n",
       "4                      20.0                satisfied  \n",
       "\n",
       "[5 rows x 25 columns]"
      ]
     },
     "execution_count": 4,
     "metadata": {},
     "output_type": "execute_result"
    }
   ],
   "source": [
    "df.head()"
   ]
  },
  {
   "cell_type": "code",
   "execution_count": 5,
   "id": "15643d27",
   "metadata": {
    "scrolled": true
   },
   "outputs": [
    {
     "name": "stdout",
     "output_type": "stream",
     "text": [
      "<class 'pandas.core.frame.DataFrame'>\n",
      "RangeIndex: 25976 entries, 0 to 25975\n",
      "Data columns (total 25 columns):\n",
      " #   Column                             Non-Null Count  Dtype  \n",
      "---  ------                             --------------  -----  \n",
      " 0   Unnamed: 0                         25976 non-null  int64  \n",
      " 1   id                                 25976 non-null  int64  \n",
      " 2   Gender                             25976 non-null  object \n",
      " 3   Customer Type                      25976 non-null  object \n",
      " 4   Age                                25976 non-null  int64  \n",
      " 5   Type of Travel                     25976 non-null  object \n",
      " 6   Class                              25976 non-null  object \n",
      " 7   Flight Distance                    25976 non-null  int64  \n",
      " 8   Inflight wifi service              25976 non-null  int64  \n",
      " 9   Departure/Arrival time convenient  25976 non-null  int64  \n",
      " 10  Ease of Online booking             25976 non-null  int64  \n",
      " 11  Gate location                      25976 non-null  int64  \n",
      " 12  Food and drink                     25976 non-null  int64  \n",
      " 13  Online boarding                    25976 non-null  int64  \n",
      " 14  Seat comfort                       25976 non-null  int64  \n",
      " 15  Inflight entertainment             25976 non-null  int64  \n",
      " 16  On-board service                   25976 non-null  int64  \n",
      " 17  Leg room service                   25976 non-null  int64  \n",
      " 18  Baggage handling                   25976 non-null  int64  \n",
      " 19  Checkin service                    25976 non-null  int64  \n",
      " 20  Inflight service                   25976 non-null  int64  \n",
      " 21  Cleanliness                        25976 non-null  int64  \n",
      " 22  Departure Delay in Minutes         25976 non-null  int64  \n",
      " 23  Arrival Delay in Minutes           25893 non-null  float64\n",
      " 24  satisfaction                       25976 non-null  object \n",
      "dtypes: float64(1), int64(19), object(5)\n",
      "memory usage: 5.0+ MB\n"
     ]
    }
   ],
   "source": [
    "df.info()"
   ]
  },
  {
   "cell_type": "markdown",
   "id": "7737c531",
   "metadata": {},
   "source": [
    "# <a name='dataformating' > Data Formating & Features Engineering</a>"
   ]
  },
  {
   "cell_type": "code",
   "execution_count": 6,
   "id": "e0de43ba",
   "metadata": {},
   "outputs": [],
   "source": [
    "df.drop(['Gate location','Unnamed: 0', 'id'], axis= 'columns', inplace=True)"
   ]
  },
  {
   "cell_type": "code",
   "execution_count": 7,
   "id": "c019ce85",
   "metadata": {},
   "outputs": [
    {
     "name": "stdout",
     "output_type": "stream",
     "text": [
      "<class 'pandas.core.frame.DataFrame'>\n",
      "RangeIndex: 25976 entries, 0 to 25975\n",
      "Data columns (total 22 columns):\n",
      " #   Column                             Non-Null Count  Dtype  \n",
      "---  ------                             --------------  -----  \n",
      " 0   Gender                             25976 non-null  object \n",
      " 1   Customer Type                      25976 non-null  object \n",
      " 2   Age                                25976 non-null  int64  \n",
      " 3   Type of Travel                     25976 non-null  object \n",
      " 4   Class                              25976 non-null  object \n",
      " 5   Flight Distance                    25976 non-null  int64  \n",
      " 6   Inflight wifi service              25976 non-null  int64  \n",
      " 7   Departure/Arrival time convenient  25976 non-null  int64  \n",
      " 8   Ease of Online booking             25976 non-null  int64  \n",
      " 9   Food and drink                     25976 non-null  int64  \n",
      " 10  Online boarding                    25976 non-null  int64  \n",
      " 11  Seat comfort                       25976 non-null  int64  \n",
      " 12  Inflight entertainment             25976 non-null  int64  \n",
      " 13  On-board service                   25976 non-null  int64  \n",
      " 14  Leg room service                   25976 non-null  int64  \n",
      " 15  Baggage handling                   25976 non-null  int64  \n",
      " 16  Checkin service                    25976 non-null  int64  \n",
      " 17  Inflight service                   25976 non-null  int64  \n",
      " 18  Cleanliness                        25976 non-null  int64  \n",
      " 19  Departure Delay in Minutes         25976 non-null  int64  \n",
      " 20  Arrival Delay in Minutes           25893 non-null  float64\n",
      " 21  satisfaction                       25976 non-null  object \n",
      "dtypes: float64(1), int64(16), object(5)\n",
      "memory usage: 4.4+ MB\n"
     ]
    }
   ],
   "source": [
    "df.info()"
   ]
  },
  {
   "cell_type": "code",
   "execution_count": 8,
   "id": "18b498d6",
   "metadata": {},
   "outputs": [
    {
     "data": {
      "text/plain": [
       "Gender                                  2\n",
       "Customer Type                           2\n",
       "Age                                    75\n",
       "Type of Travel                          2\n",
       "Class                                   3\n",
       "Flight Distance                      3281\n",
       "Inflight wifi service                   6\n",
       "Departure/Arrival time convenient       6\n",
       "Ease of Online booking                  6\n",
       "Food and drink                          6\n",
       "Online boarding                         6\n",
       "Seat comfort                            5\n",
       "Inflight entertainment                  6\n",
       "On-board service                        6\n",
       "Leg room service                        6\n",
       "Baggage handling                        5\n",
       "Checkin service                         5\n",
       "Inflight service                        6\n",
       "Cleanliness                             6\n",
       "Departure Delay in Minutes            313\n",
       "Arrival Delay in Minutes              320\n",
       "satisfaction                            2\n",
       "dtype: int64"
      ]
     },
     "execution_count": 8,
     "metadata": {},
     "output_type": "execute_result"
    }
   ],
   "source": [
    "df.nunique()"
   ]
  },
  {
   "cell_type": "code",
   "execution_count": 9,
   "id": "56697ac8",
   "metadata": {},
   "outputs": [
    {
     "data": {
      "text/plain": [
       "Gender                                0\n",
       "Customer Type                         0\n",
       "Age                                   0\n",
       "Type of Travel                        0\n",
       "Class                                 0\n",
       "Flight Distance                       0\n",
       "Inflight wifi service                 0\n",
       "Departure/Arrival time convenient     0\n",
       "Ease of Online booking                0\n",
       "Food and drink                        0\n",
       "Online boarding                       0\n",
       "Seat comfort                          0\n",
       "Inflight entertainment                0\n",
       "On-board service                      0\n",
       "Leg room service                      0\n",
       "Baggage handling                      0\n",
       "Checkin service                       0\n",
       "Inflight service                      0\n",
       "Cleanliness                           0\n",
       "Departure Delay in Minutes            0\n",
       "Arrival Delay in Minutes             83\n",
       "satisfaction                          0\n",
       "dtype: int64"
      ]
     },
     "execution_count": 9,
     "metadata": {},
     "output_type": "execute_result"
    }
   ],
   "source": [
    "df.isna().sum()"
   ]
  },
  {
   "cell_type": "code",
   "execution_count": 10,
   "id": "2a563a7a",
   "metadata": {},
   "outputs": [
    {
     "data": {
      "text/plain": [
       "0"
      ]
     },
     "execution_count": 10,
     "metadata": {},
     "output_type": "execute_result"
    }
   ],
   "source": [
    "sum(df.duplicated())"
   ]
  },
  {
   "cell_type": "code",
   "execution_count": 11,
   "id": "c3ef6785",
   "metadata": {},
   "outputs": [],
   "source": [
    "df = df.dropna()"
   ]
  },
  {
   "cell_type": "code",
   "execution_count": 12,
   "id": "e63f46a9",
   "metadata": {},
   "outputs": [
    {
     "data": {
      "text/plain": [
       "Gender                               0\n",
       "Customer Type                        0\n",
       "Age                                  0\n",
       "Type of Travel                       0\n",
       "Class                                0\n",
       "Flight Distance                      0\n",
       "Inflight wifi service                0\n",
       "Departure/Arrival time convenient    0\n",
       "Ease of Online booking               0\n",
       "Food and drink                       0\n",
       "Online boarding                      0\n",
       "Seat comfort                         0\n",
       "Inflight entertainment               0\n",
       "On-board service                     0\n",
       "Leg room service                     0\n",
       "Baggage handling                     0\n",
       "Checkin service                      0\n",
       "Inflight service                     0\n",
       "Cleanliness                          0\n",
       "Departure Delay in Minutes           0\n",
       "Arrival Delay in Minutes             0\n",
       "satisfaction                         0\n",
       "dtype: int64"
      ]
     },
     "execution_count": 12,
     "metadata": {},
     "output_type": "execute_result"
    }
   ],
   "source": [
    "df.isna().sum()"
   ]
  },
  {
   "cell_type": "markdown",
   "id": "47f20ba9",
   "metadata": {},
   "source": [
    "# <a name='Expl' > Creat X and Y</a>"
   ]
  },
  {
   "cell_type": "code",
   "execution_count": 13,
   "id": "e8e27d79",
   "metadata": {},
   "outputs": [],
   "source": [
    "X = df.drop(['satisfaction'], axis = 1)\n",
    "y = df['satisfaction']"
   ]
  },
  {
   "cell_type": "code",
   "execution_count": 14,
   "id": "17c243f7",
   "metadata": {},
   "outputs": [
    {
     "data": {
      "text/plain": [
       "<AxesSubplot:>"
      ]
     },
     "execution_count": 14,
     "metadata": {},
     "output_type": "execute_result"
    },
    {
     "data": {
      "image/png": "[encoded data removed]",
      "text/plain": [
       "<Figure size 432x288 with 1 Axes>"
      ]
     },
     "metadata": {},
     "output_type": "display_data"
    }
   ],
   "source": [
    "y.hist()"
   ]
  },
  {
   "cell_type": "markdown",
   "id": "cca1df96",
   "metadata": {},
   "source": [
    "# <a name='Ques' > Dummy variables and label Encoder</a>"
   ]
  },
  {
   "cell_type": "code",
   "execution_count": 15,
   "id": "0eaede30",
   "metadata": {},
   "outputs": [],
   "source": [
    "le = LabelEncoder()\n",
    "y=le.fit_transform(y)"
   ]
  },
  {
   "cell_type": "code",
   "execution_count": 16,
   "id": "798c37bd",
   "metadata": {},
   "outputs": [],
   "source": [
    "X= pd.get_dummies(X)"
   ]
  },
  {
   "cell_type": "code",
   "execution_count": 17,
   "id": "c8561b3d",
   "metadata": {},
   "outputs": [
    {
     "name": "stdout",
     "output_type": "stream",
     "text": [
      "<class 'pandas.core.frame.DataFrame'>\n",
      "Int64Index: 25893 entries, 0 to 25975\n",
      "Data columns (total 26 columns):\n",
      " #   Column                             Non-Null Count  Dtype  \n",
      "---  ------                             --------------  -----  \n",
      " 0   Age                                25893 non-null  int64  \n",
      " 1   Flight Distance                    25893 non-null  int64  \n",
      " 2   Inflight wifi service              25893 non-null  int64  \n",
      " 3   Departure/Arrival time convenient  25893 non-null  int64  \n",
      " 4   Ease of Online booking             25893 non-null  int64  \n",
      " 5   Food and drink                     25893 non-null  int64  \n",
      " 6   Online boarding                    25893 non-null  int64  \n",
      " 7   Seat comfort                       25893 non-null  int64  \n",
      " 8   Inflight entertainment             25893 non-null  int64  \n",
      " 9   On-board service                   25893 non-null  int64  \n",
      " 10  Leg room service                   25893 non-null  int64  \n",
      " 11  Baggage handling                   25893 non-null  int64  \n",
      " 12  Checkin service                    25893 non-null  int64  \n",
      " 13  Inflight service                   25893 non-null  int64  \n",
      " 14  Cleanliness                        25893 non-null  int64  \n",
      " 15  Departure Delay in Minutes         25893 non-null  int64  \n",
      " 16  Arrival Delay in Minutes           25893 non-null  float64\n",
      " 17  Gender_Female                      25893 non-null  uint8  \n",
      " 18  Gender_Male                        25893 non-null  uint8  \n",
      " 19  Customer Type_Loyal Customer       25893 non-null  uint8  \n",
      " 20  Customer Type_disloyal Customer    25893 non-null  uint8  \n",
      " 21  Type of Travel_Business travel     25893 non-null  uint8  \n",
      " 22  Type of Travel_Personal Travel     25893 non-null  uint8  \n",
      " 23  Class_Business                     25893 non-null  uint8  \n",
      " 24  Class_Eco                          25893 non-null  uint8  \n",
      " 25  Class_Eco Plus                     25893 non-null  uint8  \n",
      "dtypes: float64(1), int64(16), uint8(9)\n",
      "memory usage: 3.8 MB\n"
     ]
    }
   ],
   "source": [
    "X.info()"
   ]
  },
  {
   "cell_type": "code",
   "execution_count": 18,
   "id": "6b8f89e6",
   "metadata": {},
   "outputs": [
    {
     "data": {
      "text/plain": [
       "(25893, 22)"
      ]
     },
     "execution_count": 18,
     "metadata": {},
     "output_type": "execute_result"
    }
   ],
   "source": [
    "df.shape"
   ]
  },
  {
   "cell_type": "markdown",
   "id": "1e4785e6",
   "metadata": {},
   "source": [
    "# <a name='d' > Split the data </a>"
   ]
  },
  {
   "cell_type": "code",
   "execution_count": 19,
   "id": "4775c81a",
   "metadata": {},
   "outputs": [],
   "source": [
    "#Split the data\n",
    "X_train, X_val, y_train, y_val = \\\n",
    "        train_test_split(X, y, test_size=0.2, random_state=42)"
   ]
  },
  {
   "cell_type": "markdown",
   "id": "3e84ae94",
   "metadata": {},
   "source": [
    "# <a name='b' > Baseline Model  </a>"
   ]
  },
  {
   "cell_type": "code",
   "execution_count": 20,
   "id": "c5e237aa",
   "metadata": {},
   "outputs": [],
   "source": [
    "#Baseline for num cloumns\n",
    "num_col =df.select_dtypes(include = np.number).columns.values.tolist()"
   ]
  },
  {
   "cell_type": "code",
   "execution_count": 21,
   "id": "030aee4f",
   "metadata": {},
   "outputs": [
    {
     "name": "stdout",
     "output_type": "stream",
     "text": [
      "0.7444240610215314\n",
      "0.7555512647229194\n",
      "F(2): 0.733498457393647\n",
      "Precision : 0.6945073030240692\n",
      "Recall : 0.74394006170119\n"
     ]
    }
   ],
   "source": [
    "X1 = df[num_col]\n",
    "X1_train, X1_val, y_train, y_val = \\\n",
    "        train_test_split(X1, y, test_size=0.2, random_state=42)\n",
    "\n",
    "lr = LogisticRegression()\n",
    "lr.fit(X1_train, y_train)\n",
    "print(lr.score(X1_train, y_train))\n",
    "print(lr.score(X1_val, y_val))\n",
    "\n",
    "model_eval(lr, X1_train, y_train, bta = 2)"
   ]
  },
  {
   "cell_type": "code",
   "execution_count": 22,
   "id": "366347bf",
   "metadata": {},
   "outputs": [
    {
     "name": "stdout",
     "output_type": "stream",
     "text": [
      "0.812059476682437\n",
      "0.8198493917744738\n",
      "F(2): 0.7915193570346297\n",
      "Precision : 0.7806172171088251\n",
      "Recall : 0.7942926399294844\n"
     ]
    }
   ],
   "source": [
    "#Dummy \n",
    "linear_model = LogisticRegression()\n",
    "linear_model.fit(X_train, y_train)\n",
    "print( linear_model.score(X_train, y_train))\n",
    "print(linear_model.score(X_val, y_val))\n",
    "model_eval(linear_model, X_train, y_train, bta = 2)"
   ]
  },
  {
   "cell_type": "markdown",
   "id": "3ba7875b",
   "metadata": {},
   "source": [
    "# Pickle approach"
   ]
  },
  {
   "cell_type": "code",
   "execution_count": 23,
   "id": "646538d7",
   "metadata": {},
   "outputs": [],
   "source": [
    "# Save the Modle to file in the current working directory\n",
    "\n",
    "Pkl_Filename = \"Pickle_RL_Model.pkl\"  \n",
    "\n",
    "with open(Pkl_Filename, 'wb') as file:  \n",
    "    pickle.dump(linear_model, file)"
   ]
  },
  {
   "cell_type": "code",
   "execution_count": 24,
   "id": "66aaf3bc",
   "metadata": {},
   "outputs": [
    {
     "data": {
      "text/plain": [
       "LogisticRegression()"
      ]
     },
     "execution_count": 24,
     "metadata": {},
     "output_type": "execute_result"
    }
   ],
   "source": [
    "# Load the Model back from file\n",
    "with open(Pkl_Filename, 'rb') as file:  \n",
    "    Pickled_LR_Model = pickle.load(file)\n",
    "\n",
    "Pickled_LR_Model"
   ]
  },
  {
   "cell_type": "code",
   "execution_count": 25,
   "id": "f2c6c489",
   "metadata": {},
   "outputs": [
    {
     "name": "stdout",
     "output_type": "stream",
     "text": [
      "Test score: 81.98 %\n"
     ]
    },
    {
     "data": {
      "text/plain": [
       "array([1, 0, 1, ..., 0, 0, 0])"
      ]
     },
     "execution_count": 25,
     "metadata": {},
     "output_type": "execute_result"
    }
   ],
   "source": [
    "\n",
    "# Use the Reloaded Model to \n",
    "# Calculate the accuracy score and predict target values\n",
    "\n",
    "# Calculate the Score \n",
    "score = Pickled_LR_Model.score(X_val, y_val)  \n",
    "# Print the Score\n",
    "print(\"Test score: {0:.2f} %\".format(100 * score))  \n",
    "\n",
    "# Predict the Labels using the reloaded Model\n",
    "Ypredict = Pickled_LR_Model.predict(X_val)  \n",
    "\n",
    "Ypredict"
   ]
  },
  {
   "cell_type": "markdown",
   "id": "5e6b7671",
   "metadata": {},
   "source": [
    "# <a name='ss' > Standerd Scale with the Grid search </a>"
   ]
  },
  {
   "cell_type": "code",
   "execution_count": 26,
   "id": "9a4b3fbe",
   "metadata": {},
   "outputs": [
    {
     "name": "stdout",
     "output_type": "stream",
     "text": [
      "0.8709085642560587\n",
      "0.8710175709596447\n",
      "F(2): 0.8392944417292398\n",
      "Precision : 0.8675086107921929\n",
      "Recall : 0.8325253415601587\n"
     ]
    }
   ],
   "source": [
    "std_scale= StandardScaler()\n",
    "std_scale.fit(X_train)\n",
    "Xtrain_scale = std_scale.transform(X_train)\n",
    "Xval_scale = std_scale.transform(X_val)\n",
    "\n",
    "linear_model.fit(Xtrain_scale, y_train)\n",
    "print(linear_model.score(Xtrain_scale, y_train))\n",
    "print(linear_model.score(Xval_scale ,y_val))\n",
    "model_eval(linear_model, Xtrain_scale, y_train, bta = 2)"
   ]
  },
  {
   "cell_type": "markdown",
   "id": "03771726",
   "metadata": {},
   "source": [
    "# <a name='' > KNN Grid search </a>"
   ]
  },
  {
   "cell_type": "code",
   "execution_count": 27,
   "id": "3bc8f64c",
   "metadata": {},
   "outputs": [
    {
     "name": "stdout",
     "output_type": "stream",
     "text": [
      "[1, 2, 3, 4, 5, 6, 7, 8, 9, 10, 11, 12, 13, 14, 15, 16, 17, 18, 19, 20, 21, 22, 23, 24, 25, 26, 27, 28, 29, 30, 31, 32, 33, 34, 35, 36, 37, 38, 39, 40, 41, 42, 43, 44, 45, 46, 47, 48, 49, 50, 51, 52, 53, 54, 55, 56, 57, 58, 59, 60, 61, 62, 63, 64, 65, 66, 67, 68, 69, 70, 71, 72, 73, 74, 75, 76, 77, 78, 79, 80, 81, 82, 83, 84, 85, 86, 87, 88, 89, 90, 91, 92, 93, 94, 95, 96, 97, 98, 99]\n",
      "{'n_neighbors': [1, 2, 3, 4, 5, 6, 7, 8, 9, 10, 11, 12, 13, 14, 15, 16, 17, 18, 19, 20, 21, 22, 23, 24, 25, 26, 27, 28, 29, 30, 31, 32, 33, 34, 35, 36, 37, 38, 39, 40, 41, 42, 43, 44, 45, 46, 47, 48, 49, 50, 51, 52, 53, 54, 55, 56, 57, 58, 59, 60, 61, 62, 63, 64, 65, 66, 67, 68, 69, 70, 71, 72, 73, 74, 75, 76, 77, 78, 79, 80, 81, 82, 83, 84, 85, 86, 87, 88, 89, 90, 91, 92, 93, 94, 95, 96, 97, 98, 99]}\n"
     ]
    }
   ],
   "source": [
    "# Grid search \n",
    "# define the parameter values that should be searched\n",
    "k_range = list(range(1, 100))\n",
    "print(k_range)\n",
    "# create a parameter grid: map the parameter names to the values that should be searched\n",
    "param_grid = dict(n_neighbors=k_range)\n",
    "print(param_grid)\n",
    "\n",
    "# instantiate the grid\n",
    "knn = KNeighborsClassifier(n_neighbors=5)\n",
    "grid = GridSearchCV(knn, param_grid, cv=10, scoring='accuracy')"
   ]
  },
  {
   "cell_type": "code",
   "execution_count": 28,
   "id": "bd6af4da",
   "metadata": {
    "scrolled": false
   },
   "outputs": [
    {
     "data": {
      "text/plain": [
       "{'mean_fit_time': array([0.01261997, 0.00911484, 0.00937998, 0.00468819, 0.00312622,\n",
       "        0.00625157, 0.00534282, 0.00781279, 0.01097245, 0.00526557,\n",
       "        0.00343778, 0.00528829, 0.00781376, 0.01009624, 0.00468748,\n",
       "        0.00625572, 0.00312531, 0.01113348, 0.00492423, 0.00924227,\n",
       "        0.00855081, 0.00937574, 0.00491347, 0.00891569, 0.00496073,\n",
       "        0.0046859 , 0.00472374, 0.01012442, 0.00770588, 0.00468707,\n",
       "        0.00781162, 0.00962534, 0.00500669, 0.01011136, 0.00770605,\n",
       "        0.00805306, 0.00960553, 0.01024749, 0.00156233, 0.0056237 ,\n",
       "        0.00784633, 0.00468793, 0.01113784, 0.00338516, 0.0062495 ,\n",
       "        0.00312538, 0.00781336, 0.00312438, 0.00332432, 0.00974388,\n",
       "        0.00937591, 0.0049166 , 0.00312574, 0.00937402, 0.00624897,\n",
       "        0.00383637, 0.00493858, 0.00837407, 0.0062484 , 0.00625021,\n",
       "        0.00624909, 0.00835495, 0.00156217, 0.00472636, 0.00961339,\n",
       "        0.00472693, 0.00312479, 0.00960031, 0.00492306, 0.00781245,\n",
       "        0.00781121, 0.00781085, 0.00874367, 0.00781343, 0.01140485,\n",
       "        0.00781147, 0.00952969, 0.00468678, 0.0131027 , 0.0047225 ,\n",
       "        0.00937114, 0.00312471, 0.01117337, 0.00937705, 0.00630281,\n",
       "        0.00781157, 0.0064908 , 0.00468769, 0.00781116, 0.00468888,\n",
       "        0.00353444, 0.00625172, 0.00649004, 0.00625083, 0.00312662,\n",
       "        0.00781159, 0.00468507, 0.00689619, 0.00156209]),\n",
       " 'std_fit_time': array([0.00165473, 0.00689824, 0.00765873, 0.00716133, 0.00625243,\n",
       "        0.00765658, 0.0069987 , 0.00781279, 0.00718385, 0.00818086,\n",
       "        0.00616219, 0.0069935 , 0.01048166, 0.00829455, 0.00716024,\n",
       "        0.00766167, 0.00625062, 0.00731172, 0.00754657, 0.00565092,\n",
       "        0.00742082, 0.00765526, 0.00752909, 0.0051748 , 0.00672583,\n",
       "        0.00715783, 0.0072163 , 0.00681001, 0.00779988, 0.00715962,\n",
       "        0.00781162, 0.00789197, 0.00605437, 0.00986446, 0.00783456,\n",
       "        0.00808038, 0.00787125, 0.0087392 , 0.004687  , 0.0105232 ,\n",
       "        0.00784695, 0.00716093, 0.00687388, 0.00616922, 0.00765404,\n",
       "        0.00625076, 0.00781336, 0.00624876, 0.00617644, 0.00802791,\n",
       "        0.0076554 , 0.00753359, 0.00625148, 0.00765386, 0.0076534 ,\n",
       "        0.00783449, 0.00757182, 0.00779815, 0.0076527 , 0.00765492,\n",
       "        0.00765355, 0.00781236, 0.0046865 , 0.00722032, 0.00787951,\n",
       "        0.00722113, 0.00624957, 0.00786588, 0.00754475, 0.00781245,\n",
       "        0.00781121, 0.00781086, 0.00763238, 0.00781343, 0.00757337,\n",
       "        0.00781147, 0.00703817, 0.00715918, 0.00676205, 0.00721433,\n",
       "        0.00765151, 0.00624943, 0.00734766, 0.00765634, 0.00772073,\n",
       "        0.00781157, 0.00797643, 0.00716057, 0.00781116, 0.00716239,\n",
       "        0.00616443, 0.00765676, 0.00797572, 0.00765568, 0.00625324,\n",
       "        0.0078116 , 0.00715656, 0.00748607, 0.00468628]),\n",
       " 'mean_score_time': array([1.06754034, 0.81281686, 0.92900894, 1.00417845, 0.99441786,\n",
       "        0.99466136, 1.00267198, 0.98740823, 1.02163301, 0.99581375,\n",
       "        0.99349723, 1.04034481, 1.00190403, 1.00144267, 1.01183991,\n",
       "        1.01153357, 1.00899737, 1.02621782, 1.03759904, 1.20210128,\n",
       "        1.05743723, 1.03101444, 1.05661294, 1.19449263, 1.02361088,\n",
       "        1.03810563, 1.03754902, 1.23596406, 1.12734475, 1.05004294,\n",
       "        1.09971776, 1.04981661, 1.20574901, 1.15570469, 1.08950801,\n",
       "        1.04443159, 1.04597862, 1.04172065, 1.05545688, 1.06972971,\n",
       "        1.04854648, 1.04872191, 1.04115107, 1.04910102, 1.04601007,\n",
       "        1.04977295, 1.05422132, 1.05972066, 1.05880594, 1.05485284,\n",
       "        1.05230329, 1.06114998, 1.05522339, 1.05871129, 1.04954298,\n",
       "        1.06209989, 1.04132314, 1.04562488, 1.05552905, 1.0718823 ,\n",
       "        1.0569453 , 1.05753107, 1.06313059, 1.05756764, 1.06018021,\n",
       "        1.05803673, 1.05474479, 1.06387646, 1.07048612, 1.06169701,\n",
       "        1.05835807, 1.06049197, 1.07259676, 1.10897472, 1.24715397,\n",
       "        1.15679319, 1.22096179, 1.07798796, 1.0707201 , 1.07279193,\n",
       "        1.07338588, 1.08444564, 1.06498177, 1.06674912, 1.06489809,\n",
       "        1.06942971, 1.17832856, 1.10421827, 1.06844971, 1.08107445,\n",
       "        1.07574327, 1.09967527, 1.07592645, 1.07035458, 1.07627509,\n",
       "        1.09824831, 1.07022376, 1.08009033, 1.11044614]),\n",
       " 'std_score_time': array([0.19752941, 0.11165514, 0.1048434 , 0.03200969, 0.02461169,\n",
       "        0.01789063, 0.02490904, 0.02232441, 0.04395638, 0.02568089,\n",
       "        0.02306466, 0.10758303, 0.0183006 , 0.02224401, 0.01929978,\n",
       "        0.01885826, 0.03271109, 0.02128944, 0.02071865, 0.26310532,\n",
       "        0.02479982, 0.04213905, 0.06683011, 0.23306386, 0.02210064,\n",
       "        0.02804546, 0.0298657 , 0.2556198 , 0.14717206, 0.03025471,\n",
       "        0.06180026, 0.03263578, 0.20848451, 0.21056619, 0.12794102,\n",
       "        0.03186776, 0.0250783 , 0.02492052, 0.01771827, 0.05157657,\n",
       "        0.0282759 , 0.01891561, 0.03161747, 0.02747899, 0.02097097,\n",
       "        0.0216483 , 0.02433803, 0.0228488 , 0.02555471, 0.02313415,\n",
       "        0.03063223, 0.03213916, 0.0250598 , 0.02997423, 0.02471467,\n",
       "        0.02244834, 0.02720341, 0.01451176, 0.02133678, 0.02568419,\n",
       "        0.01682025, 0.02795398, 0.02545382, 0.02861724, 0.02836448,\n",
       "        0.02159418, 0.0319007 , 0.02511299, 0.03407575, 0.02048244,\n",
       "        0.02368059, 0.02372463, 0.04355828, 0.09136167, 0.12033459,\n",
       "        0.15696114, 0.16391583, 0.0286951 , 0.02307251, 0.02501907,\n",
       "        0.0217105 , 0.03293384, 0.02322731, 0.02486263, 0.02430907,\n",
       "        0.02648643, 0.14615893, 0.06545029, 0.02171878, 0.03281512,\n",
       "        0.01974719, 0.04087389, 0.03270017, 0.0258741 , 0.02004615,\n",
       "        0.05443508, 0.01483382, 0.02937229, 0.06568832]),\n",
       " 'param_n_neighbors': masked_array(data=[1, 2, 3, 4, 5, 6, 7, 8, 9, 10, 11, 12, 13, 14, 15, 16,\n",
       "                    17, 18, 19, 20, 21, 22, 23, 24, 25, 26, 27, 28, 29, 30,\n",
       "                    31, 32, 33, 34, 35, 36, 37, 38, 39, 40, 41, 42, 43, 44,\n",
       "                    45, 46, 47, 48, 49, 50, 51, 52, 53, 54, 55, 56, 57, 58,\n",
       "                    59, 60, 61, 62, 63, 64, 65, 66, 67, 68, 69, 70, 71, 72,\n",
       "                    73, 74, 75, 76, 77, 78, 79, 80, 81, 82, 83, 84, 85, 86,\n",
       "                    87, 88, 89, 90, 91, 92, 93, 94, 95, 96, 97, 98, 99],\n",
       "              mask=[False, False, False, False, False, False, False, False,\n",
       "                    False, False, False, False, False, False, False, False,\n",
       "                    False, False, False, False, False, False, False, False,\n",
       "                    False, False, False, False, False, False, False, False,\n",
       "                    False, False, False, False, False, False, False, False,\n",
       "                    False, False, False, False, False, False, False, False,\n",
       "                    False, False, False, False, False, False, False, False,\n",
       "                    False, False, False, False, False, False, False, False,\n",
       "                    False, False, False, False, False, False, False, False,\n",
       "                    False, False, False, False, False, False, False, False,\n",
       "                    False, False, False, False, False, False, False, False,\n",
       "                    False, False, False, False, False, False, False, False,\n",
       "                    False, False, False],\n",
       "        fill_value='?',\n",
       "             dtype=object),\n",
       " 'params': [{'n_neighbors': 1},\n",
       "  {'n_neighbors': 2},\n",
       "  {'n_neighbors': 3},\n",
       "  {'n_neighbors': 4},\n",
       "  {'n_neighbors': 5},\n",
       "  {'n_neighbors': 6},\n",
       "  {'n_neighbors': 7},\n",
       "  {'n_neighbors': 8},\n",
       "  {'n_neighbors': 9},\n",
       "  {'n_neighbors': 10},\n",
       "  {'n_neighbors': 11},\n",
       "  {'n_neighbors': 12},\n",
       "  {'n_neighbors': 13},\n",
       "  {'n_neighbors': 14},\n",
       "  {'n_neighbors': 15},\n",
       "  {'n_neighbors': 16},\n",
       "  {'n_neighbors': 17},\n",
       "  {'n_neighbors': 18},\n",
       "  {'n_neighbors': 19},\n",
       "  {'n_neighbors': 20},\n",
       "  {'n_neighbors': 21},\n",
       "  {'n_neighbors': 22},\n",
       "  {'n_neighbors': 23},\n",
       "  {'n_neighbors': 24},\n",
       "  {'n_neighbors': 25},\n",
       "  {'n_neighbors': 26},\n",
       "  {'n_neighbors': 27},\n",
       "  {'n_neighbors': 28},\n",
       "  {'n_neighbors': 29},\n",
       "  {'n_neighbors': 30},\n",
       "  {'n_neighbors': 31},\n",
       "  {'n_neighbors': 32},\n",
       "  {'n_neighbors': 33},\n",
       "  {'n_neighbors': 34},\n",
       "  {'n_neighbors': 35},\n",
       "  {'n_neighbors': 36},\n",
       "  {'n_neighbors': 37},\n",
       "  {'n_neighbors': 38},\n",
       "  {'n_neighbors': 39},\n",
       "  {'n_neighbors': 40},\n",
       "  {'n_neighbors': 41},\n",
       "  {'n_neighbors': 42},\n",
       "  {'n_neighbors': 43},\n",
       "  {'n_neighbors': 44},\n",
       "  {'n_neighbors': 45},\n",
       "  {'n_neighbors': 46},\n",
       "  {'n_neighbors': 47},\n",
       "  {'n_neighbors': 48},\n",
       "  {'n_neighbors': 49},\n",
       "  {'n_neighbors': 50},\n",
       "  {'n_neighbors': 51},\n",
       "  {'n_neighbors': 52},\n",
       "  {'n_neighbors': 53},\n",
       "  {'n_neighbors': 54},\n",
       "  {'n_neighbors': 55},\n",
       "  {'n_neighbors': 56},\n",
       "  {'n_neighbors': 57},\n",
       "  {'n_neighbors': 58},\n",
       "  {'n_neighbors': 59},\n",
       "  {'n_neighbors': 60},\n",
       "  {'n_neighbors': 61},\n",
       "  {'n_neighbors': 62},\n",
       "  {'n_neighbors': 63},\n",
       "  {'n_neighbors': 64},\n",
       "  {'n_neighbors': 65},\n",
       "  {'n_neighbors': 66},\n",
       "  {'n_neighbors': 67},\n",
       "  {'n_neighbors': 68},\n",
       "  {'n_neighbors': 69},\n",
       "  {'n_neighbors': 70},\n",
       "  {'n_neighbors': 71},\n",
       "  {'n_neighbors': 72},\n",
       "  {'n_neighbors': 73},\n",
       "  {'n_neighbors': 74},\n",
       "  {'n_neighbors': 75},\n",
       "  {'n_neighbors': 76},\n",
       "  {'n_neighbors': 77},\n",
       "  {'n_neighbors': 78},\n",
       "  {'n_neighbors': 79},\n",
       "  {'n_neighbors': 80},\n",
       "  {'n_neighbors': 81},\n",
       "  {'n_neighbors': 82},\n",
       "  {'n_neighbors': 83},\n",
       "  {'n_neighbors': 84},\n",
       "  {'n_neighbors': 85},\n",
       "  {'n_neighbors': 86},\n",
       "  {'n_neighbors': 87},\n",
       "  {'n_neighbors': 88},\n",
       "  {'n_neighbors': 89},\n",
       "  {'n_neighbors': 90},\n",
       "  {'n_neighbors': 91},\n",
       "  {'n_neighbors': 92},\n",
       "  {'n_neighbors': 93},\n",
       "  {'n_neighbors': 94},\n",
       "  {'n_neighbors': 95},\n",
       "  {'n_neighbors': 96},\n",
       "  {'n_neighbors': 97},\n",
       "  {'n_neighbors': 98},\n",
       "  {'n_neighbors': 99}],\n",
       " 'split0_test_score': array([0.68880309, 0.68610039, 0.6984556 , 0.7019305 , 0.71235521,\n",
       "        0.70926641, 0.71235521, 0.71119691, 0.70926641, 0.70617761,\n",
       "        0.70810811, 0.70501931, 0.70656371, 0.7027027 , 0.7034749 ,\n",
       "        0.703861  , 0.7042471 , 0.6996139 , 0.7023166 , 0.6996139 ,\n",
       "        0.7034749 , 0.6988417 , 0.6996139 , 0.6984556 , 0.6984556 ,\n",
       "        0.6972973 , 0.7011583 , 0.6988417 , 0.6992278 , 0.6976834 ,\n",
       "        0.7       , 0.6984556 , 0.6992278 , 0.6980695 , 0.7019305 ,\n",
       "        0.6992278 , 0.7027027 , 0.7015444 , 0.6996139 , 0.7019305 ,\n",
       "        0.6980695 , 0.6957529 , 0.69266409, 0.6953668 , 0.6976834 ,\n",
       "        0.6957529 , 0.69498069, 0.69498069, 0.69382239, 0.69459459,\n",
       "        0.69420849, 0.69459459, 0.69382239, 0.69343629, 0.68996139,\n",
       "        0.69189189, 0.69266409, 0.69382239, 0.69111969, 0.6957529 ,\n",
       "        0.6953668 , 0.69459459, 0.6953668 , 0.69266409, 0.69227799,\n",
       "        0.69266409, 0.69073359, 0.69150579, 0.69150579, 0.68957529,\n",
       "        0.68996139, 0.68996139, 0.68880309, 0.69189189, 0.68957529,\n",
       "        0.69111969, 0.68687259, 0.68494208, 0.68571429, 0.68687259,\n",
       "        0.68571429, 0.68455598, 0.68532819, 0.68648649, 0.68764479,\n",
       "        0.68494208, 0.68455598, 0.68416988, 0.68378378, 0.68378378,\n",
       "        0.68185328, 0.68108108, 0.68262548, 0.68108108, 0.68185328,\n",
       "        0.68301158, 0.68301158, 0.68146718, 0.68262548]),\n",
       " 'split1_test_score': array([0.67799228, 0.68378378, 0.7003861 , 0.68880309, 0.69343629,\n",
       "        0.68687259, 0.69459459, 0.69420849, 0.70540541, 0.7       ,\n",
       "        0.6972973 , 0.68957529, 0.6953668 , 0.6988417 , 0.6980695 ,\n",
       "        0.69111969, 0.69343629, 0.69343629, 0.68880309, 0.68918919,\n",
       "        0.69073359, 0.68996139, 0.68725869, 0.68957529, 0.68764479,\n",
       "        0.68223938, 0.68146718, 0.67992278, 0.67992278, 0.68185328,\n",
       "        0.67760618, 0.67374517, 0.67567568, 0.67490347, 0.67297297,\n",
       "        0.67606178, 0.67413127, 0.67799228, 0.67181467, 0.67451737,\n",
       "        0.67181467, 0.67528958, 0.67335907, 0.67297297, 0.67142857,\n",
       "        0.67142857, 0.67374517, 0.67258687, 0.67528958, 0.67258687,\n",
       "        0.67297297, 0.67181467, 0.67181467, 0.66872587, 0.67104247,\n",
       "        0.67027027, 0.66756757, 0.66988417, 0.67258687, 0.66718147,\n",
       "        0.66833977, 0.66640927, 0.66795367, 0.66833977, 0.66718147,\n",
       "        0.66525097, 0.66795367, 0.66872587, 0.66872587, 0.66679537,\n",
       "        0.66718147, 0.66525097, 0.66756757, 0.66679537, 0.66872587,\n",
       "        0.66718147, 0.66525097, 0.66332046, 0.66370656, 0.66486486,\n",
       "        0.66370656, 0.66640927, 0.66718147, 0.66486486, 0.66525097,\n",
       "        0.66525097, 0.66756757, 0.66409266, 0.66679537, 0.66447876,\n",
       "        0.66486486, 0.66563707, 0.66409266, 0.66486486, 0.66602317,\n",
       "        0.66409266, 0.66486486, 0.66563707, 0.66563707]),\n",
       " 'split2_test_score': array([0.68648649, 0.68185328, 0.696139  , 0.6965251 , 0.70579151,\n",
       "        0.7042471 , 0.71583012, 0.70849421, 0.70926641, 0.70926641,\n",
       "        0.7046332 , 0.70617761, 0.70617761, 0.70733591, 0.7030888 ,\n",
       "        0.70965251, 0.7030888 , 0.70501931, 0.70656371, 0.7       ,\n",
       "        0.70694981, 0.7003861 , 0.6992278 , 0.696139  , 0.6984556 ,\n",
       "        0.68996139, 0.69420849, 0.69227799, 0.6969112 , 0.69111969,\n",
       "        0.69343629, 0.68880309, 0.68841699, 0.68725869, 0.68687259,\n",
       "        0.68416988, 0.68880309, 0.68610039, 0.68841699, 0.68378378,\n",
       "        0.68725869, 0.68455598, 0.69073359, 0.68108108, 0.68494208,\n",
       "        0.67837838, 0.68069498, 0.67953668, 0.68378378, 0.68146718,\n",
       "        0.68030888, 0.68301158, 0.68494208, 0.68185328, 0.68416988,\n",
       "        0.68262548, 0.68223938, 0.67953668, 0.67799228, 0.67490347,\n",
       "        0.67876448, 0.67644788, 0.67876448, 0.67567568, 0.67567568,\n",
       "        0.67413127, 0.67335907, 0.67335907, 0.67413127, 0.67451737,\n",
       "        0.67567568, 0.67567568, 0.67606178, 0.67528958, 0.67567568,\n",
       "        0.67335907, 0.67297297, 0.67413127, 0.67606178, 0.67451737,\n",
       "        0.67258687, 0.67027027, 0.67490347, 0.67258687, 0.67606178,\n",
       "        0.67413127, 0.67528958, 0.67258687, 0.67297297, 0.67374517,\n",
       "        0.67374517, 0.67490347, 0.67335907, 0.67335907, 0.67297297,\n",
       "        0.67374517, 0.67220077, 0.67413127, 0.67413127]),\n",
       " 'split3_test_score': array([0.66782542, 0.6763229 , 0.68366165, 0.69100039, 0.69061414,\n",
       "        0.69602163, 0.69370413, 0.70065662, 0.69949788, 0.69872538,\n",
       "        0.69718038, 0.69795288, 0.69370413, 0.69872538, 0.69486288,\n",
       "        0.68829664, 0.68713789, 0.68636539, 0.68713789, 0.68404789,\n",
       "        0.68443414, 0.68366165, 0.68675164, 0.68404789, 0.67902665,\n",
       "        0.6809579 , 0.68404789, 0.68482039, 0.68675164, 0.6832754 ,\n",
       "        0.68288915, 0.68057165, 0.68752414, 0.68675164, 0.68829664,\n",
       "        0.68675164, 0.68211665, 0.68906914, 0.68752414, 0.68984164,\n",
       "        0.68366165, 0.69022789, 0.68559289, 0.68520664, 0.68482039,\n",
       "        0.68366165, 0.68366165, 0.68482039, 0.68443414, 0.68443414,\n",
       "        0.68404789, 0.6809579 , 0.6778679 , 0.6786404 , 0.6801854 ,\n",
       "        0.6801854 , 0.6817304 , 0.6794129 , 0.67593666, 0.67825415,\n",
       "        0.67555041, 0.67555041, 0.67593666, 0.67361916, 0.6763229 ,\n",
       "        0.67361916, 0.67323291, 0.67555041, 0.67323291, 0.67323291,\n",
       "        0.67052916, 0.67168791, 0.67014291, 0.67130166, 0.67014291,\n",
       "        0.67130166, 0.67014291, 0.67168791, 0.67168791, 0.67323291,\n",
       "        0.67207416, 0.67207416, 0.67052916, 0.67130166, 0.67516416,\n",
       "        0.67439166, 0.67168791, 0.67091541, 0.66898416, 0.67130166,\n",
       "        0.67130166, 0.67091541, 0.66937041, 0.67246041, 0.67014291,\n",
       "        0.67168791, 0.67130166, 0.67439166, 0.67207416]),\n",
       " 'split4_test_score': array([0.69795288, 0.69447663, 0.71456161, 0.71031286, 0.72344535,\n",
       "        0.71147161, 0.70683662, 0.70297412, 0.70451912, 0.70220162,\n",
       "        0.70915411, 0.70838161, 0.71649285, 0.71417536, 0.7176516 ,\n",
       "        0.71031286, 0.7161066 , 0.71224411, 0.71263036, 0.70529162,\n",
       "        0.70915411, 0.70915411, 0.70954036, 0.71108536, 0.71185786,\n",
       "        0.70606412, 0.70799537, 0.70142912, 0.70258787, 0.69679413,\n",
       "        0.69988413, 0.69872538, 0.70142912, 0.70104287, 0.70181537,\n",
       "        0.70027037, 0.70258787, 0.69640788, 0.69833913, 0.69486288,\n",
       "        0.69409038, 0.69447663, 0.69138664, 0.69215913, 0.69563538,\n",
       "        0.69100039, 0.69100039, 0.68791039, 0.69100039, 0.69138664,\n",
       "        0.68945539, 0.68868289, 0.68791039, 0.68713789, 0.68791039,\n",
       "        0.68559289, 0.68520664, 0.68636539, 0.68559289, 0.6832754 ,\n",
       "        0.6809579 , 0.68288915, 0.68366165, 0.68057165, 0.68366165,\n",
       "        0.6832754 , 0.68443414, 0.68443414, 0.68211665, 0.6825029 ,\n",
       "        0.68211665, 0.67979915, 0.68134415, 0.68211665, 0.6825029 ,\n",
       "        0.68134415, 0.67979915, 0.68134415, 0.68134415, 0.6817304 ,\n",
       "        0.68057165, 0.67979915, 0.67979915, 0.68134415, 0.68134415,\n",
       "        0.6817304 , 0.6794129 , 0.6825029 , 0.6809579 , 0.6801854 ,\n",
       "        0.6778679 , 0.67979915, 0.6801854 , 0.6809579 , 0.68211665,\n",
       "        0.6809579 , 0.68057165, 0.6801854 , 0.6801854 ]),\n",
       " 'split5_test_score': array([0.69602163, 0.69602163, 0.70876786, 0.70915411, 0.70683662,\n",
       "        0.70490537, 0.7176516 , 0.70954036, 0.71185786, 0.70374662,\n",
       "        0.70606412, 0.69602163, 0.70181537, 0.69679413, 0.70142912,\n",
       "        0.69447663, 0.69486288, 0.69215913, 0.69177289, 0.69331788,\n",
       "        0.69486288, 0.69409038, 0.69602163, 0.68945539, 0.69370413,\n",
       "        0.68520664, 0.69215913, 0.68288915, 0.68443414, 0.67979915,\n",
       "        0.68366165, 0.67825415, 0.6817304 , 0.68057165, 0.68404789,\n",
       "        0.68134415, 0.68211665, 0.67979915, 0.6832754 , 0.6786404 ,\n",
       "        0.68134415, 0.6794129 , 0.6817304 , 0.6778679 , 0.67902665,\n",
       "        0.67748165, 0.6786404 , 0.67323291, 0.67593666, 0.67168791,\n",
       "        0.67400541, 0.67168791, 0.67207416, 0.67284666, 0.67361916,\n",
       "        0.67246041, 0.67361916, 0.67091541, 0.67284666, 0.66859791,\n",
       "        0.67130166, 0.66821166, 0.67207416, 0.67091541, 0.66859791,\n",
       "        0.66782542, 0.66937041, 0.66705292, 0.66743917, 0.66782542,\n",
       "        0.66705292, 0.66473542, 0.66743917, 0.66550792, 0.66628042,\n",
       "        0.66434917, 0.67014291, 0.66743917, 0.66975666, 0.66589417,\n",
       "        0.66859791, 0.66705292, 0.66821166, 0.66550792, 0.66782542,\n",
       "        0.66319042, 0.66666667, 0.66319042, 0.66396292, 0.66434917,\n",
       "        0.66396292, 0.66203167, 0.66164542, 0.66319042, 0.66512167,\n",
       "        0.66203167, 0.66396292, 0.66164542, 0.66125917]),\n",
       " 'split6_test_score': array([0.67323291, 0.68057165, 0.68752414, 0.69370413, 0.68868289,\n",
       "        0.69833913, 0.70490537, 0.70413287, 0.70027037, 0.70297412,\n",
       "        0.70722287, 0.70490537, 0.70529162, 0.70142912, 0.70065662,\n",
       "        0.70297412, 0.70220162, 0.69872538, 0.70181537, 0.69602163,\n",
       "        0.69872538, 0.69756663, 0.69679413, 0.69524913, 0.69872538,\n",
       "        0.69679413, 0.69795288, 0.69718038, 0.69293163, 0.69447663,\n",
       "        0.69293163, 0.69022789, 0.69022789, 0.68868289, 0.68829664,\n",
       "        0.68520664, 0.6832754 , 0.68366165, 0.68211665, 0.68057165,\n",
       "        0.6794129 , 0.6786404 , 0.6832754 , 0.6809579 , 0.68211665,\n",
       "        0.6794129 , 0.6809579 , 0.6801854 , 0.6786404 , 0.6794129 ,\n",
       "        0.67670915, 0.67670915, 0.67555041, 0.6763229 , 0.67555041,\n",
       "        0.67400541, 0.67400541, 0.67670915, 0.67400541, 0.6763229 ,\n",
       "        0.67593666, 0.67207416, 0.67052916, 0.67014291, 0.67284666,\n",
       "        0.66975666, 0.66975666, 0.67207416, 0.67014291, 0.67323291,\n",
       "        0.67439166, 0.67439166, 0.67439166, 0.67246041, 0.67284666,\n",
       "        0.67130166, 0.67168791, 0.67246041, 0.67323291, 0.67246041,\n",
       "        0.67246041, 0.67246041, 0.67323291, 0.67207416, 0.67516416,\n",
       "        0.67091541, 0.67246041, 0.67052916, 0.67168791, 0.66666667,\n",
       "        0.66743917, 0.66512167, 0.66628042, 0.66550792, 0.66743917,\n",
       "        0.66512167, 0.66396292, 0.66357667, 0.66550792]),\n",
       " 'split7_test_score': array([0.6817304 , 0.69524913, 0.70336037, 0.70722287, 0.7176516 ,\n",
       "        0.71803785, 0.71726535, 0.71572036, 0.70683662, 0.71494786,\n",
       "        0.71147161, 0.71456161, 0.71263036, 0.71881035, 0.71147161,\n",
       "        0.71649285, 0.71301661, 0.71533411, 0.7161066 , 0.71147161,\n",
       "        0.71147161, 0.70838161, 0.71185786, 0.71224411, 0.71108536,\n",
       "        0.70683662, 0.70529162, 0.70683662, 0.70336037, 0.70606412,\n",
       "        0.70258787, 0.70374662, 0.70567787, 0.70606412, 0.70606412,\n",
       "        0.70529162, 0.70336037, 0.70413287, 0.70490537, 0.70567787,\n",
       "        0.70027037, 0.70181537, 0.69988413, 0.70220162, 0.70297412,\n",
       "        0.70027037, 0.69447663, 0.69486288, 0.69563538, 0.69409038,\n",
       "        0.69254538, 0.69061414, 0.69100039, 0.69293163, 0.69061414,\n",
       "        0.69100039, 0.69100039, 0.68868289, 0.68675164, 0.68945539,\n",
       "        0.68945539, 0.69022789, 0.68829664, 0.69370413, 0.69061414,\n",
       "        0.68791039, 0.68906914, 0.68868289, 0.68675164, 0.68868289,\n",
       "        0.68559289, 0.68752414, 0.68868289, 0.68752414, 0.68597914,\n",
       "        0.68752414, 0.68520664, 0.68636539, 0.68520664, 0.68404789,\n",
       "        0.68134415, 0.68443414, 0.68211665, 0.68057165, 0.68134415,\n",
       "        0.68482039, 0.68366165, 0.68636539, 0.68482039, 0.68559289,\n",
       "        0.68404789, 0.67902665, 0.6801854 , 0.6778679 , 0.6786404 ,\n",
       "        0.67670915, 0.67825415, 0.67825415, 0.67902665]),\n",
       " 'split8_test_score': array([0.69061414, 0.68636539, 0.70490537, 0.71185786, 0.70683662,\n",
       "        0.71340286, 0.71340286, 0.7168791 , 0.71533411, 0.70606412,\n",
       "        0.70876786, 0.70258787, 0.70760912, 0.70374662, 0.70606412,\n",
       "        0.69911163, 0.70181537, 0.69409038, 0.70297412, 0.69602163,\n",
       "        0.70336037, 0.69679413, 0.70220162, 0.69872538, 0.69756663,\n",
       "        0.69254538, 0.69447663, 0.68675164, 0.69254538, 0.69177289,\n",
       "        0.69679413, 0.69177289, 0.69640788, 0.69640788, 0.69949788,\n",
       "        0.69949788, 0.69756663, 0.69795288, 0.69640788, 0.69447663,\n",
       "        0.69718038, 0.69215913, 0.69602163, 0.69447663, 0.69215913,\n",
       "        0.69409038, 0.69409038, 0.69331788, 0.69293163, 0.68868289,\n",
       "        0.68945539, 0.68945539, 0.69061414, 0.68945539, 0.69061414,\n",
       "        0.68752414, 0.68636539, 0.69022789, 0.68984164, 0.69061414,\n",
       "        0.68713789, 0.68597914, 0.68636539, 0.68829664, 0.68752414,\n",
       "        0.68868289, 0.68636539, 0.68791039, 0.68791039, 0.68559289,\n",
       "        0.68443414, 0.68713789, 0.68482039, 0.68443414, 0.68520664,\n",
       "        0.68211665, 0.68288915, 0.68288915, 0.68134415, 0.68211665,\n",
       "        0.6817304 , 0.6832754 , 0.68366165, 0.68366165, 0.68288915,\n",
       "        0.68482039, 0.68636539, 0.68713789, 0.68482039, 0.68675164,\n",
       "        0.68636539, 0.68713789, 0.68713789, 0.68906914, 0.68675164,\n",
       "        0.68597914, 0.6825029 , 0.68211665, 0.68134415]),\n",
       " 'split9_test_score': array([0.68057165, 0.67979915, 0.70258787, 0.69679413, 0.70413287,\n",
       "        0.70490537, 0.70297412, 0.70142912, 0.70336037, 0.69988413,\n",
       "        0.69756663, 0.69795288, 0.69177289, 0.69177289, 0.68906914,\n",
       "        0.69447663, 0.69486288, 0.69331788, 0.68984164, 0.69447663,\n",
       "        0.69293163, 0.68984164, 0.69022789, 0.69177289, 0.69215913,\n",
       "        0.68906914, 0.68791039, 0.68559289, 0.68636539, 0.68636539,\n",
       "        0.6825029 , 0.68443414, 0.6809579 , 0.68211665, 0.68520664,\n",
       "        0.68134415, 0.68057165, 0.68134415, 0.6770954 , 0.67439166,\n",
       "        0.67516416, 0.67168791, 0.67284666, 0.67052916, 0.66628042,\n",
       "        0.67246041, 0.67284666, 0.67400541, 0.67361916, 0.67516416,\n",
       "        0.67361916, 0.67323291, 0.67323291, 0.67246041, 0.67207416,\n",
       "        0.67052916, 0.66859791, 0.67130166, 0.66937041, 0.66898416,\n",
       "        0.66975666, 0.66705292, 0.67014291, 0.66975666, 0.66898416,\n",
       "        0.66743917, 0.66743917, 0.66782542, 0.66859791, 0.66589417,\n",
       "        0.66589417, 0.66473542, 0.66473542, 0.66203167, 0.66319042,\n",
       "        0.66164542, 0.66357667, 0.66164542, 0.66280417, 0.66241792,\n",
       "        0.66241792, 0.66396292, 0.66434917, 0.66434917, 0.66396292,\n",
       "        0.66164542, 0.66125917, 0.66087292, 0.66280417, 0.66048667,\n",
       "        0.66125917, 0.66087292, 0.66203167, 0.66357667, 0.66396292,\n",
       "        0.66473542, 0.66666667, 0.66666667, 0.66512167]),\n",
       " 'mean_test_score': array([0.68412309, 0.68605439, 0.70003496, 0.7007305 , 0.70497831,\n",
       "        0.70474699, 0.707952  , 0.70652322, 0.70656145, 0.70439879,\n",
       "        0.70474662, 0.7023136 , 0.70374244, 0.70343342, 0.70258383,\n",
       "        0.70107746, 0.70107761, 0.69903059, 0.69999623, 0.6969452 ,\n",
       "        0.69960984, 0.69686793, 0.69794955, 0.696675  , 0.69686811,\n",
       "        0.6926972 , 0.69466679, 0.69165427, 0.69250382, 0.69092041,\n",
       "        0.69122939, 0.68887366, 0.69072757, 0.69018694, 0.69150012,\n",
       "        0.68991659, 0.68972323, 0.68980048, 0.68895095, 0.68786944,\n",
       "        0.68682668, 0.68640187, 0.68674945, 0.68528198, 0.68570668,\n",
       "        0.68439376, 0.68450949, 0.68354395, 0.68450935, 0.68335077,\n",
       "        0.68273281, 0.68207611, 0.68188294, 0.68138107, 0.68157415,\n",
       "        0.68060854, 0.68029963, 0.68068585, 0.67960441, 0.67933419,\n",
       "        0.67925676, 0.67794371, 0.67890915, 0.67836861, 0.67836867,\n",
       "        0.67705554, 0.67717142, 0.67771211, 0.67705545, 0.67678521,\n",
       "        0.67628301, 0.67608996, 0.6763989 , 0.67593534, 0.67601259,\n",
       "        0.67512431, 0.67485419, 0.67462254, 0.67508592, 0.67481552,\n",
       "        0.67412043, 0.67442946, 0.67493135, 0.67427486, 0.67566516,\n",
       "        0.67458384, 0.67489272, 0.67423635, 0.674159  , 0.67373418,\n",
       "        0.67327074, 0.6726527 , 0.67269138, 0.67319354, 0.67350248,\n",
       "        0.67280723, 0.67273001, 0.67280721, 0.67269129]),\n",
       " 'std_test_score': array([0.0091793 , 0.00664543, 0.00878058, 0.00806025, 0.01081403,\n",
       "        0.00868449, 0.00841851, 0.00676012, 0.00474286, 0.00469165,\n",
       "        0.00514096, 0.00675103, 0.00768578, 0.00771373, 0.0076608 ,\n",
       "        0.00872535, 0.00845139, 0.00879011, 0.00970165, 0.00737961,\n",
       "        0.00831672, 0.00761231, 0.00809096, 0.0086357 , 0.00933474,\n",
       "        0.00860523, 0.00826226, 0.00854734, 0.00760621, 0.00779791,\n",
       "        0.00841517, 0.00922278, 0.00928095, 0.00940519, 0.00985702,\n",
       "        0.00962417, 0.01032695, 0.00903514, 0.01013623, 0.01061301,\n",
       "        0.00961091, 0.00943653, 0.00861418, 0.00990097, 0.01105416,\n",
       "        0.00968802, 0.0081064 , 0.00848433, 0.00797282, 0.00820916,\n",
       "        0.00785324, 0.00806261, 0.00822331, 0.00850275, 0.00763765,\n",
       "        0.00794159, 0.00846965, 0.00823884, 0.00755907, 0.00956414,\n",
       "        0.00852215, 0.0095182 , 0.00871681, 0.00933125, 0.00897708,\n",
       "        0.00962283, 0.00887879, 0.00898521, 0.00866374, 0.00862832,\n",
       "        0.0082901 , 0.00925603, 0.00858908, 0.0095859 , 0.00875639,\n",
       "        0.00943611, 0.00786123, 0.00848042, 0.00786376, 0.00819865,\n",
       "        0.00755857, 0.00751487, 0.00706469, 0.00779307, 0.00753471,\n",
       "        0.00875188, 0.00803661, 0.00954754, 0.00829216, 0.00926175,\n",
       "        0.0084976 , 0.00859154, 0.00884231, 0.00847307, 0.00781915,\n",
       "        0.00823224, 0.007402  , 0.00740903, 0.00749445]),\n",
       " 'rank_test_score': array([48, 42, 15, 14,  4,  5,  1,  3,  2,  7,  6, 11,  8,  9, 10, 13, 12,\n",
       "        18, 16, 20, 17, 22, 19, 23, 21, 25, 24, 27, 26, 30, 29, 37, 31, 32,\n",
       "        28, 33, 35, 34, 36, 38, 39, 41, 40, 44, 43, 47, 45, 49, 46, 50, 51,\n",
       "        52, 53, 55, 54, 57, 58, 56, 59, 60, 61, 65, 62, 64, 63, 68, 67, 66,\n",
       "        69, 70, 72, 73, 71, 75, 74, 77, 81, 83, 78, 82, 89, 85, 79, 86, 76,\n",
       "        84, 80, 87, 88, 90, 92, 99, 97, 93, 91, 94, 96, 95, 98])}"
      ]
     },
     "execution_count": 28,
     "metadata": {},
     "output_type": "execute_result"
    }
   ],
   "source": [
    "# fit the grid with data\n",
    "grid.fit(X, y);\n",
    "# view the complete results\n",
    "grid.cv_results_"
   ]
  },
  {
   "cell_type": "markdown",
   "id": "b6f4f30e",
   "metadata": {},
   "source": [
    "# Examine the best model"
   ]
  },
  {
   "cell_type": "code",
   "execution_count": 29,
   "id": "b77bc396",
   "metadata": {},
   "outputs": [
    {
     "name": "stdout",
     "output_type": "stream",
     "text": [
      "Best params:  {'n_neighbors': 7}\n",
      "Best estimator:  KNeighborsClassifier(n_neighbors=7)\n",
      "Best score:  0.7079519976854856\n"
     ]
    }
   ],
   "source": [
    "print(\"Best params: \", grid.best_params_)\n",
    "print(\"Best estimator: \", grid.best_estimator_)\n",
    "print(\"Best score: \", grid.best_score_)"
   ]
  },
  {
   "cell_type": "code",
   "execution_count": 30,
   "id": "981d166a",
   "metadata": {},
   "outputs": [],
   "source": [
    "knn_best = grid.best_estimator_"
   ]
  },
  {
   "cell_type": "markdown",
   "id": "b5b42809",
   "metadata": {},
   "source": [
    "# <a name='ssss' > Decision Tree &  GridSearchCV Tune the parameters  </a>"
   ]
  },
  {
   "cell_type": "code",
   "execution_count": 31,
   "id": "a60b2511",
   "metadata": {},
   "outputs": [
    {
     "name": "stdout",
     "output_type": "stream",
     "text": [
      "1.0\n",
      "0.9348609680741503\n"
     ]
    }
   ],
   "source": [
    "\n",
    "decisiontree = DecisionTreeClassifier()\n",
    "xtrain, xtest, ytrain, ytest = train_test_split(X, y, test_size=0.3)\n",
    "decisiontree.fit(xtrain, ytrain)\n",
    "print(decisiontree.score(xtrain, ytrain))\n",
    "print(decisiontree.score(xtest, ytest))\n"
   ]
  },
  {
   "cell_type": "code",
   "execution_count": 32,
   "id": "b0b90cd0",
   "metadata": {},
   "outputs": [],
   "source": [
    "# Save the Modle to file in the current working directory\n",
    "\n",
    "Pk2_Filename = \"Pickle_RL_Model.pk2\"  \n",
    "\n",
    "with open(Pk2_Filename, 'wb') as file:  \n",
    "    pickle.dump(decisiontree, file)"
   ]
  },
  {
   "cell_type": "code",
   "execution_count": 33,
   "id": "6eacf62b",
   "metadata": {},
   "outputs": [
    {
     "data": {
      "text/plain": [
       "DecisionTreeClassifier()"
      ]
     },
     "execution_count": 33,
     "metadata": {},
     "output_type": "execute_result"
    }
   ],
   "source": [
    "# Load the Model back from file\n",
    "with open(Pk2_Filename, 'rb') as file:  \n",
    "    Pickled_LR_Model = pickle.load(file)\n",
    "\n",
    "Pickled_LR_Model"
   ]
  },
  {
   "cell_type": "code",
   "execution_count": 34,
   "id": "340ecfbc",
   "metadata": {},
   "outputs": [
    {
     "name": "stdout",
     "output_type": "stream",
     "text": [
      "Test score: 98.17 %\n"
     ]
    },
    {
     "data": {
      "text/plain": [
       "array([1, 0, 1, ..., 0, 0, 0])"
      ]
     },
     "execution_count": 34,
     "metadata": {},
     "output_type": "execute_result"
    }
   ],
   "source": [
    "# Use the Reloaded Model to \n",
    "# Calculate the accuracy score and predict target values\n",
    "\n",
    "# Calculate the Score \n",
    "score = Pickled_LR_Model.score(X_val, y_val)  \n",
    "# Print the Score\n",
    "print(\"Test score: {0:.2f} %\".format(100 * score))  \n",
    "\n",
    "# Predict the Labels using the reloaded Model\n",
    "Ypredict = Pickled_LR_Model.predict(X_val)  \n",
    "\n",
    "Ypredict"
   ]
  },
  {
   "cell_type": "code",
   "execution_count": 35,
   "id": "d46d0655",
   "metadata": {},
   "outputs": [
    {
     "name": "stdout",
     "output_type": "stream",
     "text": [
      "Fitting 10 folds for each of 48 candidates, totalling 480 fits\n"
     ]
    },
    {
     "data": {
      "text/plain": [
       "GridSearchCV(cv=10, estimator=DecisionTreeClassifier(), n_jobs=-1,\n",
       "             param_grid={'criterion': ['gini', 'entropy'],\n",
       "                         'max_depth': [3, 5, 7, 8, 11, 12],\n",
       "                         'min_samples_split': [2, 3, 5, 9]},\n",
       "             verbose=1)"
      ]
     },
     "execution_count": 35,
     "metadata": {},
     "output_type": "execute_result"
    }
   ],
   "source": [
    "# GridSearchCV Tune the parameters \n",
    "\n",
    "params_dict = {\n",
    "    'max_depth' : [3, 5, 7, 8, 11, 12],\n",
    "    'min_samples_split' : [2, 3, 5, 9],\n",
    "    'criterion' : ['gini', 'entropy']\n",
    "}\n",
    "\n",
    "grid = GridSearchCV(decisiontree, \n",
    "                   param_grid= params_dict,\n",
    "                   cv = 10, \n",
    "                   verbose=1,\n",
    "                   n_jobs=-1)\n",
    "grid.fit(xtrain, ytrain)"
   ]
  },
  {
   "cell_type": "code",
   "execution_count": 36,
   "id": "3735f2ee",
   "metadata": {},
   "outputs": [],
   "source": [
    "# Save the model to disk"
   ]
  },
  {
   "cell_type": "code",
   "execution_count": 37,
   "id": "95c7d285",
   "metadata": {},
   "outputs": [],
   "source": [
    "#DS_T = 'decisiontree.sav'"
   ]
  },
  {
   "cell_type": "code",
   "execution_count": 38,
   "id": "2d8ca40d",
   "metadata": {},
   "outputs": [],
   "source": [
    "#pickle.dump(decisiontree,open('DS_T','wb'))"
   ]
  },
  {
   "cell_type": "code",
   "execution_count": 39,
   "id": "8e7a19e2",
   "metadata": {},
   "outputs": [],
   "source": [
    "#loaded_model=pickle.load(open(Tree ,'rb'))\n",
    "#result=loaded_model.score(xtest,ytest)\n",
    "#print(result)"
   ]
  },
  {
   "cell_type": "code",
   "execution_count": 40,
   "id": "05b0171e",
   "metadata": {
    "scrolled": false
   },
   "outputs": [
    {
     "data": {
      "text/plain": [
       "{'mean_fit_time': array([0.06717246, 0.06873288, 0.0718586 , 0.06873362, 0.10153921,\n",
       "        0.09652619, 0.0952539 , 0.09997723, 0.11844373, 0.12052844,\n",
       "        0.1183315 , 0.12012687, 0.12965696, 0.13121886, 0.12965736,\n",
       "        0.12965708, 0.15777547, 0.15749576, 0.15731692, 0.15933986,\n",
       "        0.16402335, 0.16606295, 0.16273375, 0.16351256, 0.06663966,\n",
       "        0.0670845 , 0.06656122, 0.07250783, 0.10498457, 0.09898164,\n",
       "        0.10015137, 0.10073471, 0.11872218, 0.12191482, 0.12436104,\n",
       "        0.1249718 , 0.13278151, 0.1328047 , 0.13049595, 0.13513618,\n",
       "        0.15547101, 0.1525059 , 0.15456281, 0.15015152, 0.16089983,\n",
       "        0.15621309, 0.15933778, 0.14695833]),\n",
       " 'std_fit_time': array([0.0100018 , 0.00765286, 0.00765294, 0.00765255, 0.0078119 ,\n",
       "        0.00644211, 0.00681606, 0.01036233, 0.00699183, 0.00681772,\n",
       "        0.01033968, 0.006857  , 0.00715821, 0.00765351, 0.00715872,\n",
       "        0.00715886, 0.00841265, 0.00848339, 0.00443742, 0.00937305,\n",
       "        0.01047933, 0.00761472, 0.00575847, 0.00392074, 0.0070247 ,\n",
       "        0.00808031, 0.00596473, 0.00773535, 0.01044793, 0.00710867,\n",
       "        0.00875132, 0.01015252, 0.00765228, 0.00512026, 0.01128159,\n",
       "        0.00698606, 0.00781016, 0.00987978, 0.00702273, 0.00702587,\n",
       "        0.01230348, 0.0037091 , 0.00900418, 0.00718409, 0.0071584 ,\n",
       "        0.0069859 , 0.00624834, 0.0197129 ]),\n",
       " 'mean_score_time': array([0.00624814, 0.00468638, 0.00624835, 0.00468657, 0.00312517,\n",
       "        0.00937383, 0.00937285, 0.00156217, 0.00468643, 0.0046864 ,\n",
       "        0.00897603, 0.00468638, 0.00468676, 0.0046869 , 0.00312419,\n",
       "        0.00624845, 0.00781078, 0.00624866, 0.00468638, 0.00156231,\n",
       "        0.00624893, 0.00156212, 0.00781207, 0.00674744, 0.00880775,\n",
       "        0.00518491, 0.00624967, 0.        , 0.00312572, 0.00824862,\n",
       "        0.00156231, 0.00624886, 0.00624831, 0.00081468, 0.00624933,\n",
       "        0.00156183, 0.0046865 , 0.00468631, 0.00781116, 0.00312433,\n",
       "        0.00624919, 0.00624862, 0.00468676, 0.00468626, 0.00156207,\n",
       "        0.00468638, 0.00312419, 0.00206094]),\n",
       " 'std_score_time': array([0.00765238, 0.00715856, 0.00765264, 0.00715885, 0.00625033,\n",
       "        0.0076537 , 0.0076529 , 0.0046865 , 0.00715864, 0.0071586 ,\n",
       "        0.00741787, 0.00715856, 0.00715915, 0.00715936, 0.00624838,\n",
       "        0.00765276, 0.00781078, 0.00765302, 0.00715856, 0.00468693,\n",
       "        0.00765334, 0.00468636, 0.00781207, 0.00738755, 0.00702886,\n",
       "        0.0069861 , 0.00765425, 0.        , 0.00625143, 0.00747965,\n",
       "        0.00468693, 0.00765325, 0.00765258, 0.00244403, 0.00765384,\n",
       "        0.0046855 , 0.00715874, 0.00715845, 0.00781117, 0.00624866,\n",
       "        0.00765366, 0.00765296, 0.00715915, 0.00715838, 0.00468621,\n",
       "        0.00715856, 0.00624838, 0.00475893]),\n",
       " 'param_criterion': masked_array(data=['gini', 'gini', 'gini', 'gini', 'gini', 'gini', 'gini',\n",
       "                    'gini', 'gini', 'gini', 'gini', 'gini', 'gini', 'gini',\n",
       "                    'gini', 'gini', 'gini', 'gini', 'gini', 'gini', 'gini',\n",
       "                    'gini', 'gini', 'gini', 'entropy', 'entropy',\n",
       "                    'entropy', 'entropy', 'entropy', 'entropy', 'entropy',\n",
       "                    'entropy', 'entropy', 'entropy', 'entropy', 'entropy',\n",
       "                    'entropy', 'entropy', 'entropy', 'entropy', 'entropy',\n",
       "                    'entropy', 'entropy', 'entropy', 'entropy', 'entropy',\n",
       "                    'entropy', 'entropy'],\n",
       "              mask=[False, False, False, False, False, False, False, False,\n",
       "                    False, False, False, False, False, False, False, False,\n",
       "                    False, False, False, False, False, False, False, False,\n",
       "                    False, False, False, False, False, False, False, False,\n",
       "                    False, False, False, False, False, False, False, False,\n",
       "                    False, False, False, False, False, False, False, False],\n",
       "        fill_value='?',\n",
       "             dtype=object),\n",
       " 'param_max_depth': masked_array(data=[3, 3, 3, 3, 5, 5, 5, 5, 7, 7, 7, 7, 8, 8, 8, 8, 11, 11,\n",
       "                    11, 11, 12, 12, 12, 12, 3, 3, 3, 3, 5, 5, 5, 5, 7, 7,\n",
       "                    7, 7, 8, 8, 8, 8, 11, 11, 11, 11, 12, 12, 12, 12],\n",
       "              mask=[False, False, False, False, False, False, False, False,\n",
       "                    False, False, False, False, False, False, False, False,\n",
       "                    False, False, False, False, False, False, False, False,\n",
       "                    False, False, False, False, False, False, False, False,\n",
       "                    False, False, False, False, False, False, False, False,\n",
       "                    False, False, False, False, False, False, False, False],\n",
       "        fill_value='?',\n",
       "             dtype=object),\n",
       " 'param_min_samples_split': masked_array(data=[2, 3, 5, 9, 2, 3, 5, 9, 2, 3, 5, 9, 2, 3, 5, 9, 2, 3,\n",
       "                    5, 9, 2, 3, 5, 9, 2, 3, 5, 9, 2, 3, 5, 9, 2, 3, 5, 9,\n",
       "                    2, 3, 5, 9, 2, 3, 5, 9, 2, 3, 5, 9],\n",
       "              mask=[False, False, False, False, False, False, False, False,\n",
       "                    False, False, False, False, False, False, False, False,\n",
       "                    False, False, False, False, False, False, False, False,\n",
       "                    False, False, False, False, False, False, False, False,\n",
       "                    False, False, False, False, False, False, False, False,\n",
       "                    False, False, False, False, False, False, False, False],\n",
       "        fill_value='?',\n",
       "             dtype=object),\n",
       " 'params': [{'criterion': 'gini', 'max_depth': 3, 'min_samples_split': 2},\n",
       "  {'criterion': 'gini', 'max_depth': 3, 'min_samples_split': 3},\n",
       "  {'criterion': 'gini', 'max_depth': 3, 'min_samples_split': 5},\n",
       "  {'criterion': 'gini', 'max_depth': 3, 'min_samples_split': 9},\n",
       "  {'criterion': 'gini', 'max_depth': 5, 'min_samples_split': 2},\n",
       "  {'criterion': 'gini', 'max_depth': 5, 'min_samples_split': 3},\n",
       "  {'criterion': 'gini', 'max_depth': 5, 'min_samples_split': 5},\n",
       "  {'criterion': 'gini', 'max_depth': 5, 'min_samples_split': 9},\n",
       "  {'criterion': 'gini', 'max_depth': 7, 'min_samples_split': 2},\n",
       "  {'criterion': 'gini', 'max_depth': 7, 'min_samples_split': 3},\n",
       "  {'criterion': 'gini', 'max_depth': 7, 'min_samples_split': 5},\n",
       "  {'criterion': 'gini', 'max_depth': 7, 'min_samples_split': 9},\n",
       "  {'criterion': 'gini', 'max_depth': 8, 'min_samples_split': 2},\n",
       "  {'criterion': 'gini', 'max_depth': 8, 'min_samples_split': 3},\n",
       "  {'criterion': 'gini', 'max_depth': 8, 'min_samples_split': 5},\n",
       "  {'criterion': 'gini', 'max_depth': 8, 'min_samples_split': 9},\n",
       "  {'criterion': 'gini', 'max_depth': 11, 'min_samples_split': 2},\n",
       "  {'criterion': 'gini', 'max_depth': 11, 'min_samples_split': 3},\n",
       "  {'criterion': 'gini', 'max_depth': 11, 'min_samples_split': 5},\n",
       "  {'criterion': 'gini', 'max_depth': 11, 'min_samples_split': 9},\n",
       "  {'criterion': 'gini', 'max_depth': 12, 'min_samples_split': 2},\n",
       "  {'criterion': 'gini', 'max_depth': 12, 'min_samples_split': 3},\n",
       "  {'criterion': 'gini', 'max_depth': 12, 'min_samples_split': 5},\n",
       "  {'criterion': 'gini', 'max_depth': 12, 'min_samples_split': 9},\n",
       "  {'criterion': 'entropy', 'max_depth': 3, 'min_samples_split': 2},\n",
       "  {'criterion': 'entropy', 'max_depth': 3, 'min_samples_split': 3},\n",
       "  {'criterion': 'entropy', 'max_depth': 3, 'min_samples_split': 5},\n",
       "  {'criterion': 'entropy', 'max_depth': 3, 'min_samples_split': 9},\n",
       "  {'criterion': 'entropy', 'max_depth': 5, 'min_samples_split': 2},\n",
       "  {'criterion': 'entropy', 'max_depth': 5, 'min_samples_split': 3},\n",
       "  {'criterion': 'entropy', 'max_depth': 5, 'min_samples_split': 5},\n",
       "  {'criterion': 'entropy', 'max_depth': 5, 'min_samples_split': 9},\n",
       "  {'criterion': 'entropy', 'max_depth': 7, 'min_samples_split': 2},\n",
       "  {'criterion': 'entropy', 'max_depth': 7, 'min_samples_split': 3},\n",
       "  {'criterion': 'entropy', 'max_depth': 7, 'min_samples_split': 5},\n",
       "  {'criterion': 'entropy', 'max_depth': 7, 'min_samples_split': 9},\n",
       "  {'criterion': 'entropy', 'max_depth': 8, 'min_samples_split': 2},\n",
       "  {'criterion': 'entropy', 'max_depth': 8, 'min_samples_split': 3},\n",
       "  {'criterion': 'entropy', 'max_depth': 8, 'min_samples_split': 5},\n",
       "  {'criterion': 'entropy', 'max_depth': 8, 'min_samples_split': 9},\n",
       "  {'criterion': 'entropy', 'max_depth': 11, 'min_samples_split': 2},\n",
       "  {'criterion': 'entropy', 'max_depth': 11, 'min_samples_split': 3},\n",
       "  {'criterion': 'entropy', 'max_depth': 11, 'min_samples_split': 5},\n",
       "  {'criterion': 'entropy', 'max_depth': 11, 'min_samples_split': 9},\n",
       "  {'criterion': 'entropy', 'max_depth': 12, 'min_samples_split': 2},\n",
       "  {'criterion': 'entropy', 'max_depth': 12, 'min_samples_split': 3},\n",
       "  {'criterion': 'entropy', 'max_depth': 12, 'min_samples_split': 5},\n",
       "  {'criterion': 'entropy', 'max_depth': 12, 'min_samples_split': 9}],\n",
       " 'split0_test_score': array([0.89023718, 0.89023718, 0.89023718, 0.89023718, 0.8957529 ,\n",
       "        0.8957529 , 0.8957529 , 0.8957529 , 0.9271925 , 0.9271925 ,\n",
       "        0.9271925 , 0.9271925 , 0.93601765, 0.93601765, 0.93546608,\n",
       "        0.93601765, 0.92995036, 0.93270822, 0.93160507, 0.93215665,\n",
       "        0.93270822, 0.92939879, 0.9310535 , 0.93050193, 0.89023718,\n",
       "        0.89023718, 0.89023718, 0.89023718, 0.89520132, 0.89520132,\n",
       "        0.89520132, 0.89520132, 0.92112521, 0.92112521, 0.92112521,\n",
       "        0.92112521, 0.92774407, 0.92774407, 0.92774407, 0.92774407,\n",
       "        0.93381136, 0.93546608, 0.93601765, 0.93491451, 0.93601765,\n",
       "        0.93491451, 0.93601765, 0.93546608]),\n",
       " 'split1_test_score': array([0.89299504, 0.89299504, 0.89299504, 0.89299504, 0.91560949,\n",
       "        0.91560949, 0.91560949, 0.91560949, 0.93270822, 0.93270822,\n",
       "        0.93270822, 0.93270822, 0.93822394, 0.93877551, 0.93767237,\n",
       "        0.93822394, 0.93877551, 0.94318809, 0.94208494, 0.94043023,\n",
       "        0.94208494, 0.94373966, 0.9409818 , 0.94318809, 0.89299504,\n",
       "        0.89299504, 0.89299504, 0.89299504, 0.9134032 , 0.9134032 ,\n",
       "        0.9134032 , 0.9134032 , 0.93546608, 0.93546608, 0.93601765,\n",
       "        0.93601765, 0.94263651, 0.94153337, 0.94208494, 0.94208494,\n",
       "        0.94043023, 0.93822394, 0.93987865, 0.93877551, 0.94539437,\n",
       "        0.94594595, 0.94429123, 0.9448428 ]),\n",
       " 'split2_test_score': array([0.8819636 , 0.8819636 , 0.8819636 , 0.8819636 , 0.90457805,\n",
       "        0.90457805, 0.90457805, 0.90457805, 0.92167678, 0.92167678,\n",
       "        0.92167678, 0.92057363, 0.9409818 , 0.93987865, 0.9409818 ,\n",
       "        0.93932708, 0.94925538, 0.94815223, 0.94870381, 0.94815223,\n",
       "        0.94815223, 0.94870381, 0.94815223, 0.94263651, 0.8819636 ,\n",
       "        0.8819636 , 0.8819636 , 0.8819636 , 0.90182019, 0.90182019,\n",
       "        0.90182019, 0.90182019, 0.92222835, 0.92222835, 0.92222835,\n",
       "        0.92222835, 0.94208494, 0.94208494, 0.94263651, 0.94208494,\n",
       "        0.94760066, 0.94760066, 0.94815223, 0.94815223, 0.94925538,\n",
       "        0.94815223, 0.94925538, 0.94815223]),\n",
       " 'split3_test_score': array([0.8720353 , 0.8720353 , 0.8720353 , 0.8720353 , 0.89134032,\n",
       "        0.89134032, 0.89134032, 0.89134032, 0.91891892, 0.91891892,\n",
       "        0.91891892, 0.91891892, 0.92884721, 0.92884721, 0.92939879,\n",
       "        0.92884721, 0.93381136, 0.93436293, 0.93712079, 0.93656922,\n",
       "        0.92884721, 0.92939879, 0.93270822, 0.93050193, 0.8720353 ,\n",
       "        0.8720353 , 0.8720353 , 0.8720353 , 0.89078875, 0.89078875,\n",
       "        0.89078875, 0.89078875, 0.92057363, 0.92002206, 0.92057363,\n",
       "        0.92002206, 0.92884721, 0.92774407, 0.92939879, 0.92774407,\n",
       "        0.93050193, 0.93381136, 0.92939879, 0.93381136, 0.93381136,\n",
       "        0.93270822, 0.93050193, 0.93381136]),\n",
       " 'split4_test_score': array([0.88747932, 0.88747932, 0.88747932, 0.88747932, 0.90678434,\n",
       "        0.90678434, 0.90678434, 0.90678434, 0.9310535 , 0.92939879,\n",
       "        0.9310535 , 0.9310535 , 0.92829564, 0.92829564, 0.92884721,\n",
       "        0.92829564, 0.9409818 , 0.94429123, 0.9409818 , 0.94208494,\n",
       "        0.93601765, 0.93656922, 0.93767237, 0.93932708, 0.88747932,\n",
       "        0.88747932, 0.88747932, 0.88747932, 0.90678434, 0.90678434,\n",
       "        0.90678434, 0.90678434, 0.92277992, 0.92277992, 0.92277992,\n",
       "        0.92277992, 0.93325979, 0.93325979, 0.93325979, 0.93270822,\n",
       "        0.94318809, 0.94153337, 0.93987865, 0.94153337, 0.94373966,\n",
       "        0.9448428 , 0.94153337, 0.94208494]),\n",
       " 'split5_test_score': array([0.88631347, 0.88631347, 0.88631347, 0.88631347, 0.89790287,\n",
       "        0.89790287, 0.89790287, 0.89790287, 0.93267108, 0.93267108,\n",
       "        0.93267108, 0.93267108, 0.93763797, 0.93763797, 0.93763797,\n",
       "        0.93763797, 0.93267108, 0.93156733, 0.93211921, 0.93211921,\n",
       "        0.93211921, 0.92880795, 0.92880795, 0.93046358, 0.88631347,\n",
       "        0.88631347, 0.88631347, 0.88631347, 0.89790287, 0.89790287,\n",
       "        0.89790287, 0.89790287, 0.92935982, 0.92935982, 0.92935982,\n",
       "        0.92935982, 0.93598234, 0.93543046, 0.93598234, 0.93598234,\n",
       "        0.93487859, 0.93763797, 0.93818985, 0.93984547, 0.93432671,\n",
       "        0.93322296, 0.93377483, 0.93708609]),\n",
       " 'split6_test_score': array([0.88134658, 0.88134658, 0.88134658, 0.88134658, 0.8995585 ,\n",
       "        0.89900662, 0.8995585 , 0.89900662, 0.93101545, 0.93046358,\n",
       "        0.93101545, 0.93046358, 0.93267108, 0.93267108, 0.93211921,\n",
       "        0.93267108, 0.94260486, 0.94315673, 0.94260486, 0.94205298,\n",
       "        0.9392936 , 0.93763797, 0.93984547, 0.93818985, 0.88134658,\n",
       "        0.88134658, 0.88134658, 0.88134658, 0.89900662, 0.89900662,\n",
       "        0.89900662, 0.89900662, 0.92328918, 0.92328918, 0.92328918,\n",
       "        0.92384106, 0.93432671, 0.93377483, 0.93377483, 0.93432671,\n",
       "        0.9415011 , 0.93984547, 0.94039735, 0.94039735, 0.94094923,\n",
       "        0.94039735, 0.94094923, 0.94039735]),\n",
       " 'split7_test_score': array([0.87582781, 0.87582781, 0.87582781, 0.87582781, 0.89293598,\n",
       "        0.89293598, 0.89293598, 0.89293598, 0.92439294, 0.92439294,\n",
       "        0.92439294, 0.92439294, 0.92715232, 0.92604857, 0.92660044,\n",
       "        0.92660044, 0.92935982, 0.92770419, 0.92825607, 0.92935982,\n",
       "        0.92660044, 0.92549669, 0.92660044, 0.92660044, 0.87582781,\n",
       "        0.87582781, 0.87582781, 0.87582781, 0.88189845, 0.88189845,\n",
       "        0.88189845, 0.88189845, 0.91997792, 0.91997792, 0.9205298 ,\n",
       "        0.9205298 , 0.92384106, 0.92328918, 0.92273731, 0.92384106,\n",
       "        0.92660044, 0.92770419, 0.92715232, 0.92880795, 0.93101545,\n",
       "        0.92715232, 0.92935982, 0.93101545]),\n",
       " 'split8_test_score': array([0.88465784, 0.88465784, 0.88465784, 0.88465784, 0.90507726,\n",
       "        0.90507726, 0.90507726, 0.90507726, 0.93377483, 0.93377483,\n",
       "        0.93377483, 0.93377483, 0.93763797, 0.93818985, 0.93763797,\n",
       "        0.93763797, 0.93984547, 0.9392936 , 0.9392936 , 0.94205298,\n",
       "        0.93874172, 0.93763797, 0.94039735, 0.94094923, 0.88465784,\n",
       "        0.88465784, 0.88465784, 0.88465784, 0.90286976, 0.90286976,\n",
       "        0.90286976, 0.90286976, 0.9299117 , 0.9299117 , 0.9299117 ,\n",
       "        0.9299117 , 0.9392936 , 0.93984547, 0.93984547, 0.93984547,\n",
       "        0.94536424, 0.94536424, 0.94646799, 0.94591611, 0.94536424,\n",
       "        0.94646799, 0.94812362, 0.94812362]),\n",
       " 'split9_test_score': array([0.88852097, 0.88852097, 0.88852097, 0.88852097, 0.90728477,\n",
       "        0.90728477, 0.90728477, 0.90728477, 0.93377483, 0.93322296,\n",
       "        0.93322296, 0.93322296, 0.93377483, 0.93377483, 0.93377483,\n",
       "        0.93322296, 0.93322296, 0.93543046, 0.93487859, 0.93598234,\n",
       "        0.93267108, 0.93377483, 0.93322296, 0.9392936 , 0.88852097,\n",
       "        0.88852097, 0.88852097, 0.88852097, 0.90783664, 0.90783664,\n",
       "        0.90783664, 0.90783664, 0.93322296, 0.93322296, 0.93322296,\n",
       "        0.93322296, 0.94205298, 0.94205298, 0.94205298, 0.9415011 ,\n",
       "        0.94094923, 0.93984547, 0.93763797, 0.93984547, 0.9392936 ,\n",
       "        0.94039735, 0.9392936 , 0.93984547]),\n",
       " 'mean_test_score': array([0.88413771, 0.88413771, 0.88413771, 0.88413771, 0.90168245,\n",
       "        0.90162726, 0.90168245, 0.90162726, 0.92871791, 0.92844206,\n",
       "        0.92866272, 0.92849722, 0.93412404, 0.9340137 , 0.93401367,\n",
       "        0.93384819, 0.93704786, 0.9379855 , 0.93776487, 0.93809606,\n",
       "        0.93572363, 0.93511657, 0.93594423, 0.93616522, 0.88413771,\n",
       "        0.88413771, 0.88413771, 0.88413771, 0.89975121, 0.89975121,\n",
       "        0.89975121, 0.89975121, 0.92579348, 0.92573832, 0.92590382,\n",
       "        0.92590385, 0.93500692, 0.93467592, 0.9349517 , 0.93478629,\n",
       "        0.93848259, 0.93870328, 0.93831715, 0.93919993, 0.93991676,\n",
       "        0.93942017, 0.93931007, 0.94008254]),\n",
       " 'std_test_score': array([0.00615694, 0.00615694, 0.00615694, 0.00615694, 0.00713234,\n",
       "        0.00715068, 0.00713234, 0.00715068, 0.0050996 , 0.00496788,\n",
       "        0.00504729, 0.00518474, 0.00452518, 0.0046514 , 0.00443749,\n",
       "        0.00439026, 0.00599944, 0.00626932, 0.00586015, 0.00554906,\n",
       "        0.00615465, 0.00687985, 0.00626481, 0.00571058, 0.00615694,\n",
       "        0.00615694, 0.00615694, 0.00615694, 0.00859617, 0.00859617,\n",
       "        0.00859617, 0.00859617, 0.0053792 , 0.00543498, 0.00542307,\n",
       "        0.00545618, 0.00629417, 0.00642035, 0.00649309, 0.00634168,\n",
       "        0.00641337, 0.00539356, 0.00618324, 0.00537157, 0.00570893,\n",
       "        0.00673853, 0.00653529, 0.00555368]),\n",
       " 'rank_test_score': array([41, 41, 41, 41, 33, 35, 33, 35, 25, 28, 26, 27, 21, 22, 23, 24, 12,\n",
       "        10, 11,  9, 15, 16, 14, 13, 41, 41, 41, 41, 37, 37, 37, 37, 31, 32,\n",
       "        30, 29, 17, 20, 18, 19,  7,  6,  8,  5,  2,  3,  4,  1])}"
      ]
     },
     "execution_count": 40,
     "metadata": {},
     "output_type": "execute_result"
    }
   ],
   "source": [
    "grid.cv_results_"
   ]
  },
  {
   "cell_type": "markdown",
   "id": "55a5580d",
   "metadata": {},
   "source": [
    "# Examine the best model"
   ]
  },
  {
   "cell_type": "code",
   "execution_count": 41,
   "id": "d7f31f2b",
   "metadata": {
    "scrolled": true
   },
   "outputs": [
    {
     "name": "stdout",
     "output_type": "stream",
     "text": [
      "Best params:  {'criterion': 'entropy', 'max_depth': 12, 'min_samples_split': 9}\n",
      "Best estimator:  DecisionTreeClassifier(criterion='entropy', max_depth=12, min_samples_split=9)\n",
      "Best score:  0.940082540981311\n"
     ]
    }
   ],
   "source": [
    "\n",
    "print(\"Best params: \", grid.best_params_)\n",
    "print(\"Best estimator: \", grid.best_estimator_)\n",
    "print(\"Best score: \", grid.best_score_)"
   ]
  },
  {
   "cell_type": "code",
   "execution_count": 42,
   "id": "c69ec296",
   "metadata": {},
   "outputs": [],
   "source": [
    "dt_best = grid.best_estimator_"
   ]
  },
  {
   "cell_type": "markdown",
   "id": "24b09da2",
   "metadata": {},
   "source": [
    "# <a name='Rf' >Random Forest with GridSearchCV Tune the parameters</a>"
   ]
  },
  {
   "cell_type": "code",
   "execution_count": 43,
   "id": "3586256e",
   "metadata": {},
   "outputs": [
    {
     "name": "stdout",
     "output_type": "stream",
     "text": [
      "1.0\n",
      "0.9585478887744593\n"
     ]
    }
   ],
   "source": [
    "randomforest = RandomForestClassifier(n_estimators=100)\n",
    "xtrain, xtest, ytrain, ytest = train_test_split(X, y, test_size=0.3)\n",
    "randomforest.fit(xtrain, ytrain)\n",
    "print(randomforest.score(xtrain, ytrain))\n",
    "print(randomforest.score(xtest, ytest))\n"
   ]
  },
  {
   "cell_type": "code",
   "execution_count": 44,
   "id": "fbe3916f",
   "metadata": {},
   "outputs": [],
   "source": [
    "# Save the Modle to file in the current working directory\n",
    "\n",
    "Pk3_Filename = \"Pickle_RL_Model.pk3\"  \n",
    "\n",
    "with open(Pk3_Filename, 'wb') as file:  \n",
    "    pickle.dump(randomforest, file)"
   ]
  },
  {
   "cell_type": "code",
   "execution_count": 45,
   "id": "ce72eb99",
   "metadata": {},
   "outputs": [
    {
     "data": {
      "text/plain": [
       "RandomForestClassifier()"
      ]
     },
     "execution_count": 45,
     "metadata": {},
     "output_type": "execute_result"
    }
   ],
   "source": [
    "# Load the Model back from file\n",
    "with open(Pk3_Filename, 'rb') as file:  \n",
    "    Pickled_LR_Model = pickle.load(file)\n",
    "\n",
    "Pickled_LR_Model"
   ]
  },
  {
   "cell_type": "code",
   "execution_count": 46,
   "id": "2ddfb192",
   "metadata": {},
   "outputs": [
    {
     "name": "stdout",
     "output_type": "stream",
     "text": [
      "Test score: 95.85 %\n"
     ]
    },
    {
     "data": {
      "text/plain": [
       "array([1, 0, 1, ..., 0, 0, 0])"
      ]
     },
     "execution_count": 46,
     "metadata": {},
     "output_type": "execute_result"
    }
   ],
   "source": [
    "# Use the Reloaded Model to \n",
    "# Calculate the accuracy score and predict target values\n",
    "\n",
    "# Calculate the Score \n",
    "score = Pickled_LR_Model.score(xtest, ytest)  \n",
    "# Print the Score\n",
    "print(\"Test score: {0:.2f} %\".format(100 * score))  \n",
    "\n",
    "# Predict the Labels using the reloaded Model\n",
    "Ypredict = Pickled_LR_Model.predict(xtest)  \n",
    "\n",
    "Ypredict"
   ]
  },
  {
   "cell_type": "code",
   "execution_count": null,
   "id": "e8d4cffa",
   "metadata": {},
   "outputs": [
    {
     "name": "stdout",
     "output_type": "stream",
     "text": [
      "Fitting 10 folds for each of 720 candidates, totalling 7200 fits\n"
     ]
    }
   ],
   "source": [
    "# GridSearchCV Tune the parameters\n",
    "params_dict = {\n",
    "    'n_estimators': [10, 20, 40, 50, 70],\n",
    "    'max_depth' : [3, 5, 7, 8, 11, 12],\n",
    "    'criterion' : ['gini',  'entropy' ],\n",
    "    'min_samples_split' : [  2 ,  3,  5 ,  9 ],\n",
    "    'max_features' : [ 'auto' ,  'sqrt' ,   'log2' ]\n",
    "}\n",
    "\n",
    "grid = GridSearchCV(randomforest, \n",
    "                   param_grid= params_dict,\n",
    "                   cv = 10, \n",
    "                   verbose=1,\n",
    "                   n_jobs=-1)\n",
    "grid.fit(xtrain, ytrain)"
   ]
  },
  {
   "cell_type": "code",
   "execution_count": null,
   "id": "74dfef18",
   "metadata": {
    "scrolled": false
   },
   "outputs": [],
   "source": [
    "grid.cv_results_"
   ]
  },
  {
   "cell_type": "markdown",
   "id": "db975b56",
   "metadata": {},
   "source": [
    "# Examine the best model"
   ]
  },
  {
   "cell_type": "code",
   "execution_count": null,
   "id": "73505c02",
   "metadata": {},
   "outputs": [],
   "source": [
    "print(\"Best params: \", grid.best_params_)\n",
    "print(\"Best estimator: \", grid.best_estimator_)\n",
    "print(\"Best score: \", grid.best_score_)"
   ]
  },
  {
   "cell_type": "code",
   "execution_count": null,
   "id": "0eca9b85",
   "metadata": {},
   "outputs": [],
   "source": [
    "rf_best =grid.best_estimator_"
   ]
  },
  {
   "cell_type": "markdown",
   "id": "d0d1a207",
   "metadata": {},
   "source": [
    "# <a name='jp' > XGboost </a>"
   ]
  },
  {
   "cell_type": "code",
   "execution_count": null,
   "id": "b542a122",
   "metadata": {},
   "outputs": [],
   "source": [
    "#XGBoost \n",
    "X_train, X_test, y_train, y_test = train_test_split(X, y, test_size=0.2, random_state=42)"
   ]
  },
  {
   "cell_type": "code",
   "execution_count": null,
   "id": "87156579",
   "metadata": {},
   "outputs": [],
   "source": [
    "gbm = xgb.XGBClassifier( \n",
    "                        n_estimators=30000,\n",
    "                        max_depth=4,\n",
    "                        objective='binary:logistic', #new objective\n",
    "                        learning_rate=.05, \n",
    "                        subsample=.8,\n",
    "                        min_child_weight=3,\n",
    "                        colsample_bytree=.8\n",
    "                       )\n",
    "\n",
    "eval_set=[(X_train,y_train),(X_test,y_test)]\n",
    "fit_model = gbm.fit( \n",
    "                    X_train, y_train, \n",
    "                    eval_set=eval_set,\n",
    "                    eval_metric='error', #new evaluation metric: classification error (could also use AUC, e.g.)\n",
    "                    early_stopping_rounds=50,\n",
    "                    verbose=False\n",
    "                   )\n",
    "\n",
    "accuracy_score(y_test, gbm.predict(X_test, ntree_limit=gbm.best_ntree_limit)) "
   ]
  },
  {
   "cell_type": "code",
   "execution_count": null,
   "id": "af80b98b",
   "metadata": {},
   "outputs": [],
   "source": [
    "params = {\n",
    "        'min_child_weight': [1, 5, 10],\n",
    "        'gamma': [0.5, 1, 1.5, 2, 5],\n",
    "        'subsample': [0.6, 0.8, 1.0],\n",
    "        'colsample_bytree': [0.6, 0.8, 1.0],\n",
    "        'max_depth': [3, 4, 5]\n",
    "        }"
   ]
  },
  {
   "cell_type": "code",
   "execution_count": null,
   "id": "55474a5b",
   "metadata": {},
   "outputs": [],
   "source": [
    "xgb.plot_importance(gbm, importance_type='gain')"
   ]
  },
  {
   "cell_type": "code",
   "execution_count": null,
   "id": "71e0a6c3",
   "metadata": {},
   "outputs": [],
   "source": [
    "model = xgb.XGBClassifier(learning_rate=0.02, n_estimators=600, objective='binary:logistic')"
   ]
  },
  {
   "cell_type": "code",
   "execution_count": null,
   "id": "ec1236fd",
   "metadata": {},
   "outputs": [],
   "source": [
    "from sklearn.model_selection import RandomizedSearchCV\n",
    "\n",
    "param_comb = 70\n",
    "\n",
    "random_search = RandomizedSearchCV(model, param_distributions=params, n_iter=param_comb, scoring='accuracy', n_jobs=-1, cv=10, verbose=3, random_state=42)\n",
    "\n",
    "random_search.fit(X_train, y_train) "
   ]
  },
  {
   "cell_type": "code",
   "execution_count": null,
   "id": "e8e52337",
   "metadata": {},
   "outputs": [],
   "source": [
    "print('Best score:')\n",
    "print(random_search.best_score_)"
   ]
  },
  {
   "cell_type": "code",
   "execution_count": null,
   "id": "86ab4aa5",
   "metadata": {},
   "outputs": [],
   "source": [
    "print('Best estimator:')\n",
    "print(random_search.best_estimator_)"
   ]
  },
  {
   "cell_type": "code",
   "execution_count": null,
   "id": "a2461e6a",
   "metadata": {},
   "outputs": [],
   "source": [
    "tuned_xgb = random_search.best_estimator_"
   ]
  },
  {
   "cell_type": "code",
   "execution_count": null,
   "id": "a2d82dcd",
   "metadata": {},
   "outputs": [],
   "source": [
    "model_eval(tuned_xgb, X_train, y_train, bta = 1)"
   ]
  },
  {
   "cell_type": "markdown",
   "id": "17234827",
   "metadata": {},
   "source": [
    "# <a name='we' > Soft voting</a>"
   ]
  },
  {
   "cell_type": "code",
   "execution_count": null,
   "id": "ec05b59d",
   "metadata": {},
   "outputs": [],
   "source": [
    "X_train, X_test, y_train, y_test = train_test_split(X, y, random_state=123)"
   ]
  },
  {
   "cell_type": "code",
   "execution_count": null,
   "id": "a7837339",
   "metadata": {},
   "outputs": [],
   "source": [
    "model_eval(rf_best, X_train, y_train, bta = 2)"
   ]
  },
  {
   "cell_type": "code",
   "execution_count": null,
   "id": "ee73b145",
   "metadata": {},
   "outputs": [],
   "source": [
    "lr_model = linear_model.LogisticRegression()\n",
    "knn_model = neighbors.KNeighborsClassifier()\n",
    "rf_model = ensemble.RandomForestClassifier()"
   ]
  },
  {
   "cell_type": "code",
   "execution_count": null,
   "id": "9870d24d",
   "metadata": {},
   "outputs": [],
   "source": [
    "model_names = [\"lr_model\",\"knn_best\",\"rf_best\"]"
   ]
  },
  {
   "cell_type": "code",
   "execution_count": null,
   "id": "04d67f59",
   "metadata": {},
   "outputs": [],
   "source": [
    "for model_name in model_names:\n",
    "    curr_model = eval(model_name)\n",
    "    curr_model.fit(X_train, y_train)\n",
    "    print(f'{model_name} Train score: {curr_model.score(X_train, y_train)}')\n",
    "    print(f'{model_name} Test score: {curr_model.score(X_test, y_test)}')\n",
    "    print('------')"
   ]
  },
  {
   "cell_type": "code",
   "execution_count": null,
   "id": "f77b17eb",
   "metadata": {},
   "outputs": [],
   "source": [
    "model_vars = [eval(n) for n in model_names]\n",
    "model_list = list(zip(model_names, model_vars))"
   ]
  },
  {
   "cell_type": "code",
   "execution_count": null,
   "id": "52199782",
   "metadata": {},
   "outputs": [],
   "source": [
    "model_list"
   ]
  },
  {
   "cell_type": "markdown",
   "id": "2d2bfeaf",
   "metadata": {},
   "source": [
    "# create voting classifier"
   ]
  },
  {
   "cell_type": "code",
   "execution_count": null,
   "id": "85e7083a",
   "metadata": {},
   "outputs": [],
   "source": [
    "\n",
    "voting_classifer = VotingClassifier(estimators=model_list,\n",
    "                                    voting='soft', #<-- sklearn calls this soft voting\n",
    "                                    n_jobs=-1)\n",
    "voting_classifer.fit(X_train, y_train)"
   ]
  },
  {
   "cell_type": "markdown",
   "id": "bcfb60b7",
   "metadata": {},
   "source": [
    "# <a name='sc' >Stacking Classifier </a>"
   ]
  },
  {
   "cell_type": "code",
   "execution_count": null,
   "id": "843843b9",
   "metadata": {},
   "outputs": [],
   "source": [
    "\n",
    "stacked = StackingClassifier(\n",
    "    classifiers=model_vars, meta_classifier=LogisticRegression(), use_probas=False)"
   ]
  },
  {
   "cell_type": "code",
   "execution_count": null,
   "id": "65d63eef",
   "metadata": {},
   "outputs": [],
   "source": [
    "stacked.fit(X_train, y_train)"
   ]
  },
  {
   "cell_type": "code",
   "execution_count": null,
   "id": "2ebb82b9",
   "metadata": {},
   "outputs": [],
   "source": [
    "y_pred = stacked.predict(X_test)\n",
    "accuracy_score(y_test, y_pred)"
   ]
  },
  {
   "cell_type": "code",
   "execution_count": null,
   "id": "88aa8ddd",
   "metadata": {},
   "outputs": [],
   "source": [
    "y_pred1 = stacked.predict(X_train)\n",
    "accuracy_score(y_train, y_pred1)"
   ]
  },
  {
   "cell_type": "markdown",
   "id": "cbf7aed1",
   "metadata": {},
   "source": [
    "# <a name='' >ROC</a>"
   ]
  },
  {
   "cell_type": "code",
   "execution_count": null,
   "id": "10b874fc",
   "metadata": {
    "scrolled": true
   },
   "outputs": [],
   "source": [
    "#ROC \n",
    "from sklearn.metrics import roc_auc_score, roc_curve\n",
    "import matplotlib.pyplot as plt  \n",
    "\n",
    "fpr, tpr, thresholds = roc_curve(y_test, tuned_xgb.predict_proba(X_test)[:,1]) \n",
    "\n",
    "plt.plot(fpr, tpr,lw=2)\n",
    "plt.plot([0,1],[0,1],c='violet',ls='--')\n",
    "plt.xlim([-0.05,1.05])\n",
    "plt.ylim([-0.05,1.05])\n",
    "\n",
    "\n",
    "plt.xlabel('False positive rate')\n",
    "plt.ylabel('True positive rate')\n",
    "plt.title('ROC curve for fraud problem');\n",
    "print(\"ROC AUC score = \", roc_auc_score(y_test, tuned_xgb.predict_proba(X_test)[:,1]))\n",
    "\n",
    "optimal_idx = np.argmax(tpr - fpr)\n",
    "optimal_threshold = thresholds[optimal_idx]\n",
    "print(\"Threshold value is:\", optimal_threshold)"
   ]
  },
  {
   "cell_type": "code",
   "execution_count": null,
   "id": "851141af",
   "metadata": {},
   "outputs": [],
   "source": [
    "from sklearn.metrics import plot_roc_curve\n",
    "\n",
    "plt.figure(figsize=(15,15)) \n",
    "classifiers = [lr_model, dt_best, rf_best, knn_best, voting_classifer, tuned_xgb]\n",
    "ax = plt.gca()\n",
    "for i in classifiers:\n",
    "    plot_roc_curve(i, X_test, y_test, ax=ax)"
   ]
  },
  {
   "cell_type": "markdown",
   "id": "c0bc9361",
   "metadata": {},
   "source": [
    "# <a name='' >Stacking Classifier </a>"
   ]
  },
  {
   "cell_type": "code",
   "execution_count": null,
   "id": "23479d3c",
   "metadata": {
    "scrolled": true
   },
   "outputs": [],
   "source": [
    "precision_curve, recall_curve, threshold_curve = precision_recall_curve(y_val,rf_best.predict_proba(X_val)[:,1] )\n",
    "plt.figure(dpi=80)\n",
    "plt.plot(threshold_curve, precision_curve[1:],label='precision')\n",
    "plt.plot(threshold_curve, recall_curve[1:], label='recall')\n",
    "plt.legend(loc='lower left')\n",
    "plt.xlabel('Threshold (above this probability, label as fraud)');\n",
    "plt.title('Precision and Recall Curves');"
   ]
  },
  {
   "cell_type": "code",
   "execution_count": null,
   "id": "f6812bef",
   "metadata": {},
   "outputs": [],
   "source": [
    "y_pred= rf_best.predict(X_val)"
   ]
  },
  {
   "cell_type": "code",
   "execution_count": null,
   "id": "4d774f78",
   "metadata": {},
   "outputs": [],
   "source": [
    " precision_score(y_pred,y_val)"
   ]
  },
  {
   "cell_type": "code",
   "execution_count": null,
   "id": "b386bf12",
   "metadata": {},
   "outputs": [],
   "source": [
    " recall_score(y_pred,y_val)"
   ]
  },
  {
   "cell_type": "code",
   "execution_count": null,
   "id": "ffcb71bf",
   "metadata": {},
   "outputs": [],
   "source": [
    "f1_score(y_val, y_pred)"
   ]
  },
  {
   "cell_type": "code",
   "execution_count": null,
   "id": "c3017f6a",
   "metadata": {},
   "outputs": [],
   "source": [
    "precision_recall_curve(y_pred,y_val)"
   ]
  },
  {
   "cell_type": "markdown",
   "id": "cbf4efb3",
   "metadata": {},
   "source": [
    "# <a name='cm' >Confution Matrix </a>"
   ]
  },
  {
   "cell_type": "code",
   "execution_count": null,
   "id": "8e6adb4e",
   "metadata": {},
   "outputs": [],
   "source": [
    "from sklearn.metrics import confusion_matrix\n",
    "print(\"Random Forest confusion matrix: \\n\\n\", confusion_matrix(y_val,rf_best.predict(X_val)))"
   ]
  },
  {
   "cell_type": "code",
   "execution_count": null,
   "id": "8b741d7a",
   "metadata": {},
   "outputs": [],
   "source": [
    "make_confusion_matrix(dt_best, X_val, y_val, threshold=0.5)"
   ]
  },
  {
   "cell_type": "code",
   "execution_count": null,
   "id": "78fab683",
   "metadata": {},
   "outputs": [],
   "source": [
    "# Print confusion matrix for kNN\n",
    "rf_confusion = confusion_matrix(y_test,rf_best.predict(X_test))\n",
    "plt.figure(dpi=150)\n",
    "sns.heatmap(rf_confusion, cmap=plt.cm.Blues, annot=True, square=True, fmt=\".1f\") \n",
    "plt.xlabel('Predicted species')\n",
    "plt.ylabel('Actual species')\n",
    "plt.title('Random Forst confusion matrix');"
   ]
  },
  {
   "cell_type": "code",
   "execution_count": null,
   "id": "837e0f49",
   "metadata": {},
   "outputs": [],
   "source": []
  }
 ],
 "metadata": {
  "kernelspec": {
   "display_name": "Python 3",
   "language": "python",
   "name": "python3"
  },
  "language_info": {
   "codemirror_mode": {
    "name": "ipython",
    "version": 3
   },
   "file_extension": ".py",
   "mimetype": "text/x-python",
   "name": "python",
   "nbconvert_exporter": "python",
   "pygments_lexer": "ipython3",
   "version": "3.8.8"
  }
 },
 "nbformat": 4,
 "nbformat_minor": 5
}
