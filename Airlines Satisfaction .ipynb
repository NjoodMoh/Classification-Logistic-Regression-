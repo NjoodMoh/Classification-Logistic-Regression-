{
 "cells": [
  {
   "cell_type": "markdown",
   "id": "bfbb1690",
   "metadata": {},
   "source": [
    "# Airline Passenger Satisfaction"
   ]
  },
  {
   "cell_type": "markdown",
   "id": "295cfc2d",
   "metadata": {},
   "source": [
    "What factors lead to customer satisfaction for an Airline?"
   ]
  },
  {
   "cell_type": "markdown",
   "id": "73a1fe97",
   "metadata": {},
   "source": [
    "\n",
    "## Appendex\n",
    "- Cick on the links:\n",
    "    >1.  <a href=#imports>Imports</a>\n",
    "    >2.  <a href=#loaddata>Load Data</a>\n",
    "    >3.  <a href=#dataformating>Data Formating & Feature Engineering</a>\n",
    "    >4.  <a href=#Expl>Create X and y</a>\n",
    "    >5.  <a href=#Ques> Dummy variables and label encoder </a>\n",
    "    >6.  <a href=#d> Split the data</a>\n",
    "    >7.  <a href=#b> Baseline Model </a>\n",
    "    >8.  <a herf=#ss>Standerd Scale with grid search</a>\n",
    "    >9.  <a herf=#ssss> Decision Tree & GridSearchCV Tune the parameters</a>\n",
    "    >10. <a herf=#Rf>Random Forest with GridSearchCV Tune the parameters</a>\n",
    "    >11. <a herf=#we>Soft voting </a>\n",
    "    >12. <a herf=#sc>  Stacking Classifier </a>  \n",
    "    >13. <a herf=#cm> Confution Matrix </a> \n",
    "    >14. <a herf=#jp>  XGboost</a>       \n",
    "\n",
    "    "
   ]
  },
  {
   "cell_type": "markdown",
   "id": "68a76294",
   "metadata": {},
   "source": [
    "# Abstract"
   ]
  },
  {
   "cell_type": "markdown",
   "id": "6e99726e",
   "metadata": {},
   "source": [
    "What factors lead to customer satisfaction for an Airline? This dataset contains an airline passenger satisfaction survey. What factors are highly correlated to a satisfied (or dissatisfied) passenger? Can you predict passenger satisfaction?"
   ]
  },
  {
   "cell_type": "markdown",
   "id": "66564349",
   "metadata": {},
   "source": [
    "# Design"
   ]
  },
  {
   "cell_type": "markdown",
   "id": "29cc4975",
   "metadata": {},
   "source": [
    "This project is one of the T5 Data Science Boot Camp requirements. Data provided by Kaggle. In this module we will be laying the foundation for our analysis by processing and exploring a large amount of data and classify it by using classification modules. The dataset contains an airline passenger satisfaction survey. \n",
    "\n"
   ]
  },
  {
   "cell_type": "markdown",
   "id": "762c7610",
   "metadata": {},
   "source": [
    "# <a name='imports' > Import Libraries </a>"
   ]
  },
  {
   "cell_type": "code",
   "execution_count": 2,
   "id": "9e50222b",
   "metadata": {},
   "outputs": [],
   "source": [
    "import numpy as np\n",
    "import pandas as pd\n",
    "import matplotlib.pyplot as plt\n",
    "import warnings\n",
    "warnings.filterwarnings(\"ignore\")\n",
    "import seaborn as sns\n",
    "sns.set()\n",
    "# modeling imports\n",
    "from sklearn.metrics import accuracy_score\n",
    "import pickle\n",
    "from sklearn import model_selection\n",
    "from sklearn.linear_model import LogisticRegression\n",
    "from sklearn.model_selection import GridSearchCV\n",
    "from sklearn.model_selection import train_test_split\n",
    "from sklearn.metrics import precision_score, recall_score, accuracy_score, roc_auc_score\n",
    "from sklearn.metrics import confusion_matrix\n",
    "from sklearn.preprocessing import StandardScaler\n",
    "from sklearn.preprocessing import LabelEncoder\n",
    "from sklearn.neighbors import KNeighborsClassifier\n",
    "from sklearn.tree import DecisionTreeClassifier\n",
    "from sklearn.ensemble import RandomForestClassifier, ExtraTreesClassifier, VotingClassifier\n",
    "from sklearn.metrics import precision_score, recall_score, precision_recall_curve, fbeta_score,f1_score ,confusion_matrix, classification_report, make_scorer\n",
    "from mlxtend.classifier import StackingClassifier # <-- note: this is not from sklearn!\n",
    "from sklearn import linear_model, neighbors, ensemble\n",
    "sns.set_style(\"whitegrid\")"
   ]
  },
  {
   "cell_type": "markdown",
   "id": "b11b2800",
   "metadata": {},
   "source": [
    "# <a name='loaddata' > Load Data </a>"
   ]
  },
  {
   "cell_type": "code",
   "execution_count": 3,
   "id": "ffecda95",
   "metadata": {},
   "outputs": [],
   "source": [
    "df = pd.read_csv('Airline.csv')"
   ]
  },
  {
   "cell_type": "code",
   "execution_count": 4,
   "id": "258f590f",
   "metadata": {},
   "outputs": [
    {
     "data": {
      "text/html": [
       "<div>\n",
       "<style scoped>\n",
       "    .dataframe tbody tr th:only-of-type {\n",
       "        vertical-align: middle;\n",
       "    }\n",
       "\n",
       "    .dataframe tbody tr th {\n",
       "        vertical-align: top;\n",
       "    }\n",
       "\n",
       "    .dataframe thead th {\n",
       "        text-align: right;\n",
       "    }\n",
       "</style>\n",
       "<table border=\"1\" class=\"dataframe\">\n",
       "  <thead>\n",
       "    <tr style=\"text-align: right;\">\n",
       "      <th></th>\n",
       "      <th>Unnamed: 0</th>\n",
       "      <th>id</th>\n",
       "      <th>Gender</th>\n",
       "      <th>Customer Type</th>\n",
       "      <th>Age</th>\n",
       "      <th>Type of Travel</th>\n",
       "      <th>Class</th>\n",
       "      <th>Flight Distance</th>\n",
       "      <th>Inflight wifi service</th>\n",
       "      <th>Departure/Arrival time convenient</th>\n",
       "      <th>...</th>\n",
       "      <th>Inflight entertainment</th>\n",
       "      <th>On-board service</th>\n",
       "      <th>Leg room service</th>\n",
       "      <th>Baggage handling</th>\n",
       "      <th>Checkin service</th>\n",
       "      <th>Inflight service</th>\n",
       "      <th>Cleanliness</th>\n",
       "      <th>Departure Delay in Minutes</th>\n",
       "      <th>Arrival Delay in Minutes</th>\n",
       "      <th>satisfaction</th>\n",
       "    </tr>\n",
       "  </thead>\n",
       "  <tbody>\n",
       "    <tr>\n",
       "      <th>0</th>\n",
       "      <td>0</td>\n",
       "      <td>19556</td>\n",
       "      <td>Female</td>\n",
       "      <td>Loyal Customer</td>\n",
       "      <td>52</td>\n",
       "      <td>Business travel</td>\n",
       "      <td>Eco</td>\n",
       "      <td>160</td>\n",
       "      <td>5</td>\n",
       "      <td>4</td>\n",
       "      <td>...</td>\n",
       "      <td>5</td>\n",
       "      <td>5</td>\n",
       "      <td>5</td>\n",
       "      <td>5</td>\n",
       "      <td>2</td>\n",
       "      <td>5</td>\n",
       "      <td>5</td>\n",
       "      <td>50</td>\n",
       "      <td>44.0</td>\n",
       "      <td>satisfied</td>\n",
       "    </tr>\n",
       "    <tr>\n",
       "      <th>1</th>\n",
       "      <td>1</td>\n",
       "      <td>90035</td>\n",
       "      <td>Female</td>\n",
       "      <td>Loyal Customer</td>\n",
       "      <td>36</td>\n",
       "      <td>Business travel</td>\n",
       "      <td>Business</td>\n",
       "      <td>2863</td>\n",
       "      <td>1</td>\n",
       "      <td>1</td>\n",
       "      <td>...</td>\n",
       "      <td>4</td>\n",
       "      <td>4</td>\n",
       "      <td>4</td>\n",
       "      <td>4</td>\n",
       "      <td>3</td>\n",
       "      <td>4</td>\n",
       "      <td>5</td>\n",
       "      <td>0</td>\n",
       "      <td>0.0</td>\n",
       "      <td>satisfied</td>\n",
       "    </tr>\n",
       "    <tr>\n",
       "      <th>2</th>\n",
       "      <td>2</td>\n",
       "      <td>12360</td>\n",
       "      <td>Male</td>\n",
       "      <td>disloyal Customer</td>\n",
       "      <td>20</td>\n",
       "      <td>Business travel</td>\n",
       "      <td>Eco</td>\n",
       "      <td>192</td>\n",
       "      <td>2</td>\n",
       "      <td>0</td>\n",
       "      <td>...</td>\n",
       "      <td>2</td>\n",
       "      <td>4</td>\n",
       "      <td>1</td>\n",
       "      <td>3</td>\n",
       "      <td>2</td>\n",
       "      <td>2</td>\n",
       "      <td>2</td>\n",
       "      <td>0</td>\n",
       "      <td>0.0</td>\n",
       "      <td>neutral or dissatisfied</td>\n",
       "    </tr>\n",
       "    <tr>\n",
       "      <th>3</th>\n",
       "      <td>3</td>\n",
       "      <td>77959</td>\n",
       "      <td>Male</td>\n",
       "      <td>Loyal Customer</td>\n",
       "      <td>44</td>\n",
       "      <td>Business travel</td>\n",
       "      <td>Business</td>\n",
       "      <td>3377</td>\n",
       "      <td>0</td>\n",
       "      <td>0</td>\n",
       "      <td>...</td>\n",
       "      <td>1</td>\n",
       "      <td>1</td>\n",
       "      <td>1</td>\n",
       "      <td>1</td>\n",
       "      <td>3</td>\n",
       "      <td>1</td>\n",
       "      <td>4</td>\n",
       "      <td>0</td>\n",
       "      <td>6.0</td>\n",
       "      <td>satisfied</td>\n",
       "    </tr>\n",
       "    <tr>\n",
       "      <th>4</th>\n",
       "      <td>4</td>\n",
       "      <td>36875</td>\n",
       "      <td>Female</td>\n",
       "      <td>Loyal Customer</td>\n",
       "      <td>49</td>\n",
       "      <td>Business travel</td>\n",
       "      <td>Eco</td>\n",
       "      <td>1182</td>\n",
       "      <td>2</td>\n",
       "      <td>3</td>\n",
       "      <td>...</td>\n",
       "      <td>2</td>\n",
       "      <td>2</td>\n",
       "      <td>2</td>\n",
       "      <td>2</td>\n",
       "      <td>4</td>\n",
       "      <td>2</td>\n",
       "      <td>4</td>\n",
       "      <td>0</td>\n",
       "      <td>20.0</td>\n",
       "      <td>satisfied</td>\n",
       "    </tr>\n",
       "  </tbody>\n",
       "</table>\n",
       "<p>5 rows × 25 columns</p>\n",
       "</div>"
      ],
      "text/plain": [
       "   Unnamed: 0     id  Gender      Customer Type  Age   Type of Travel  \\\n",
       "0           0  19556  Female     Loyal Customer   52  Business travel   \n",
       "1           1  90035  Female     Loyal Customer   36  Business travel   \n",
       "2           2  12360    Male  disloyal Customer   20  Business travel   \n",
       "3           3  77959    Male     Loyal Customer   44  Business travel   \n",
       "4           4  36875  Female     Loyal Customer   49  Business travel   \n",
       "\n",
       "      Class  Flight Distance  Inflight wifi service  \\\n",
       "0       Eco              160                      5   \n",
       "1  Business             2863                      1   \n",
       "2       Eco              192                      2   \n",
       "3  Business             3377                      0   \n",
       "4       Eco             1182                      2   \n",
       "\n",
       "   Departure/Arrival time convenient  ...  Inflight entertainment  \\\n",
       "0                                  4  ...                       5   \n",
       "1                                  1  ...                       4   \n",
       "2                                  0  ...                       2   \n",
       "3                                  0  ...                       1   \n",
       "4                                  3  ...                       2   \n",
       "\n",
       "   On-board service  Leg room service  Baggage handling  Checkin service  \\\n",
       "0                 5                 5                 5                2   \n",
       "1                 4                 4                 4                3   \n",
       "2                 4                 1                 3                2   \n",
       "3                 1                 1                 1                3   \n",
       "4                 2                 2                 2                4   \n",
       "\n",
       "   Inflight service  Cleanliness  Departure Delay in Minutes  \\\n",
       "0                 5            5                          50   \n",
       "1                 4            5                           0   \n",
       "2                 2            2                           0   \n",
       "3                 1            4                           0   \n",
       "4                 2            4                           0   \n",
       "\n",
       "   Arrival Delay in Minutes             satisfaction  \n",
       "0                      44.0                satisfied  \n",
       "1                       0.0                satisfied  \n",
       "2                       0.0  neutral or dissatisfied  \n",
       "3                       6.0                satisfied  \n",
       "4                      20.0                satisfied  \n",
       "\n",
       "[5 rows x 25 columns]"
      ]
     },
     "execution_count": 4,
     "metadata": {},
     "output_type": "execute_result"
    }
   ],
   "source": [
    "df.head()"
   ]
  },
  {
   "cell_type": "code",
   "execution_count": 5,
   "id": "15643d27",
   "metadata": {
    "scrolled": true
   },
   "outputs": [
    {
     "name": "stdout",
     "output_type": "stream",
     "text": [
      "<class 'pandas.core.frame.DataFrame'>\n",
      "RangeIndex: 25976 entries, 0 to 25975\n",
      "Data columns (total 25 columns):\n",
      " #   Column                             Non-Null Count  Dtype  \n",
      "---  ------                             --------------  -----  \n",
      " 0   Unnamed: 0                         25976 non-null  int64  \n",
      " 1   id                                 25976 non-null  int64  \n",
      " 2   Gender                             25976 non-null  object \n",
      " 3   Customer Type                      25976 non-null  object \n",
      " 4   Age                                25976 non-null  int64  \n",
      " 5   Type of Travel                     25976 non-null  object \n",
      " 6   Class                              25976 non-null  object \n",
      " 7   Flight Distance                    25976 non-null  int64  \n",
      " 8   Inflight wifi service              25976 non-null  int64  \n",
      " 9   Departure/Arrival time convenient  25976 non-null  int64  \n",
      " 10  Ease of Online booking             25976 non-null  int64  \n",
      " 11  Gate location                      25976 non-null  int64  \n",
      " 12  Food and drink                     25976 non-null  int64  \n",
      " 13  Online boarding                    25976 non-null  int64  \n",
      " 14  Seat comfort                       25976 non-null  int64  \n",
      " 15  Inflight entertainment             25976 non-null  int64  \n",
      " 16  On-board service                   25976 non-null  int64  \n",
      " 17  Leg room service                   25976 non-null  int64  \n",
      " 18  Baggage handling                   25976 non-null  int64  \n",
      " 19  Checkin service                    25976 non-null  int64  \n",
      " 20  Inflight service                   25976 non-null  int64  \n",
      " 21  Cleanliness                        25976 non-null  int64  \n",
      " 22  Departure Delay in Minutes         25976 non-null  int64  \n",
      " 23  Arrival Delay in Minutes           25893 non-null  float64\n",
      " 24  satisfaction                       25976 non-null  object \n",
      "dtypes: float64(1), int64(19), object(5)\n",
      "memory usage: 5.0+ MB\n"
     ]
    }
   ],
   "source": [
    "df.info()"
   ]
  },
  {
   "cell_type": "markdown",
   "id": "7737c531",
   "metadata": {},
   "source": [
    "# <a name='dataformating' > Data Formating & Features Engineering</a>"
   ]
  },
  {
   "cell_type": "code",
   "execution_count": 6,
   "id": "e0de43ba",
   "metadata": {},
   "outputs": [],
   "source": [
    "df.drop(['Gate location'], axis= 'columns', inplace=True)"
   ]
  },
  {
   "cell_type": "code",
   "execution_count": 7,
   "id": "bf21289d",
   "metadata": {},
   "outputs": [],
   "source": [
    "df.drop(['Unnamed: 0', 'id'], axis= 'columns', inplace=True)"
   ]
  },
  {
   "cell_type": "code",
   "execution_count": 8,
   "id": "c019ce85",
   "metadata": {},
   "outputs": [
    {
     "name": "stdout",
     "output_type": "stream",
     "text": [
      "<class 'pandas.core.frame.DataFrame'>\n",
      "RangeIndex: 25976 entries, 0 to 25975\n",
      "Data columns (total 22 columns):\n",
      " #   Column                             Non-Null Count  Dtype  \n",
      "---  ------                             --------------  -----  \n",
      " 0   Gender                             25976 non-null  object \n",
      " 1   Customer Type                      25976 non-null  object \n",
      " 2   Age                                25976 non-null  int64  \n",
      " 3   Type of Travel                     25976 non-null  object \n",
      " 4   Class                              25976 non-null  object \n",
      " 5   Flight Distance                    25976 non-null  int64  \n",
      " 6   Inflight wifi service              25976 non-null  int64  \n",
      " 7   Departure/Arrival time convenient  25976 non-null  int64  \n",
      " 8   Ease of Online booking             25976 non-null  int64  \n",
      " 9   Food and drink                     25976 non-null  int64  \n",
      " 10  Online boarding                    25976 non-null  int64  \n",
      " 11  Seat comfort                       25976 non-null  int64  \n",
      " 12  Inflight entertainment             25976 non-null  int64  \n",
      " 13  On-board service                   25976 non-null  int64  \n",
      " 14  Leg room service                   25976 non-null  int64  \n",
      " 15  Baggage handling                   25976 non-null  int64  \n",
      " 16  Checkin service                    25976 non-null  int64  \n",
      " 17  Inflight service                   25976 non-null  int64  \n",
      " 18  Cleanliness                        25976 non-null  int64  \n",
      " 19  Departure Delay in Minutes         25976 non-null  int64  \n",
      " 20  Arrival Delay in Minutes           25893 non-null  float64\n",
      " 21  satisfaction                       25976 non-null  object \n",
      "dtypes: float64(1), int64(16), object(5)\n",
      "memory usage: 4.4+ MB\n"
     ]
    }
   ],
   "source": [
    "df.info()"
   ]
  },
  {
   "cell_type": "code",
   "execution_count": 9,
   "id": "18b498d6",
   "metadata": {},
   "outputs": [
    {
     "data": {
      "text/plain": [
       "Gender                                  2\n",
       "Customer Type                           2\n",
       "Age                                    75\n",
       "Type of Travel                          2\n",
       "Class                                   3\n",
       "Flight Distance                      3281\n",
       "Inflight wifi service                   6\n",
       "Departure/Arrival time convenient       6\n",
       "Ease of Online booking                  6\n",
       "Food and drink                          6\n",
       "Online boarding                         6\n",
       "Seat comfort                            5\n",
       "Inflight entertainment                  6\n",
       "On-board service                        6\n",
       "Leg room service                        6\n",
       "Baggage handling                        5\n",
       "Checkin service                         5\n",
       "Inflight service                        6\n",
       "Cleanliness                             6\n",
       "Departure Delay in Minutes            313\n",
       "Arrival Delay in Minutes              320\n",
       "satisfaction                            2\n",
       "dtype: int64"
      ]
     },
     "execution_count": 9,
     "metadata": {},
     "output_type": "execute_result"
    }
   ],
   "source": [
    "df.nunique()"
   ]
  },
  {
   "cell_type": "code",
   "execution_count": 10,
   "id": "56697ac8",
   "metadata": {},
   "outputs": [
    {
     "data": {
      "text/plain": [
       "Gender                                0\n",
       "Customer Type                         0\n",
       "Age                                   0\n",
       "Type of Travel                        0\n",
       "Class                                 0\n",
       "Flight Distance                       0\n",
       "Inflight wifi service                 0\n",
       "Departure/Arrival time convenient     0\n",
       "Ease of Online booking                0\n",
       "Food and drink                        0\n",
       "Online boarding                       0\n",
       "Seat comfort                          0\n",
       "Inflight entertainment                0\n",
       "On-board service                      0\n",
       "Leg room service                      0\n",
       "Baggage handling                      0\n",
       "Checkin service                       0\n",
       "Inflight service                      0\n",
       "Cleanliness                           0\n",
       "Departure Delay in Minutes            0\n",
       "Arrival Delay in Minutes             83\n",
       "satisfaction                          0\n",
       "dtype: int64"
      ]
     },
     "execution_count": 10,
     "metadata": {},
     "output_type": "execute_result"
    }
   ],
   "source": [
    "df.isna().sum()"
   ]
  },
  {
   "cell_type": "code",
   "execution_count": 11,
   "id": "2a563a7a",
   "metadata": {},
   "outputs": [
    {
     "data": {
      "text/plain": [
       "0"
      ]
     },
     "execution_count": 11,
     "metadata": {},
     "output_type": "execute_result"
    }
   ],
   "source": [
    "sum(df.duplicated())"
   ]
  },
  {
   "cell_type": "code",
   "execution_count": 12,
   "id": "c3ef6785",
   "metadata": {},
   "outputs": [],
   "source": [
    "df = df.dropna()"
   ]
  },
  {
   "cell_type": "code",
   "execution_count": 13,
   "id": "e63f46a9",
   "metadata": {},
   "outputs": [
    {
     "data": {
      "text/plain": [
       "Gender                               0\n",
       "Customer Type                        0\n",
       "Age                                  0\n",
       "Type of Travel                       0\n",
       "Class                                0\n",
       "Flight Distance                      0\n",
       "Inflight wifi service                0\n",
       "Departure/Arrival time convenient    0\n",
       "Ease of Online booking               0\n",
       "Food and drink                       0\n",
       "Online boarding                      0\n",
       "Seat comfort                         0\n",
       "Inflight entertainment               0\n",
       "On-board service                     0\n",
       "Leg room service                     0\n",
       "Baggage handling                     0\n",
       "Checkin service                      0\n",
       "Inflight service                     0\n",
       "Cleanliness                          0\n",
       "Departure Delay in Minutes           0\n",
       "Arrival Delay in Minutes             0\n",
       "satisfaction                         0\n",
       "dtype: int64"
      ]
     },
     "execution_count": 13,
     "metadata": {},
     "output_type": "execute_result"
    }
   ],
   "source": [
    "df.isna().sum()"
   ]
  },
  {
   "cell_type": "markdown",
   "id": "47f20ba9",
   "metadata": {},
   "source": [
    "# <a name='Expl' > Creat X and Y</a>"
   ]
  },
  {
   "cell_type": "code",
   "execution_count": 14,
   "id": "e8e27d79",
   "metadata": {},
   "outputs": [],
   "source": [
    "X = df.drop(['satisfaction'], axis = 1)\n",
    "y = df['satisfaction']"
   ]
  },
  {
   "cell_type": "markdown",
   "id": "cca1df96",
   "metadata": {},
   "source": [
    "# <a name='Ques' > Dummy variables and label Encoder</a>"
   ]
  },
  {
   "cell_type": "code",
   "execution_count": 15,
   "id": "0eaede30",
   "metadata": {},
   "outputs": [],
   "source": [
    "le = LabelEncoder()\n",
    "y=le.fit_transform(y)"
   ]
  },
  {
   "cell_type": "code",
   "execution_count": 16,
   "id": "798c37bd",
   "metadata": {},
   "outputs": [],
   "source": [
    "X= pd.get_dummies(X)"
   ]
  },
  {
   "cell_type": "code",
   "execution_count": 17,
   "id": "c8561b3d",
   "metadata": {},
   "outputs": [
    {
     "name": "stdout",
     "output_type": "stream",
     "text": [
      "<class 'pandas.core.frame.DataFrame'>\n",
      "Int64Index: 25893 entries, 0 to 25975\n",
      "Data columns (total 26 columns):\n",
      " #   Column                             Non-Null Count  Dtype  \n",
      "---  ------                             --------------  -----  \n",
      " 0   Age                                25893 non-null  int64  \n",
      " 1   Flight Distance                    25893 non-null  int64  \n",
      " 2   Inflight wifi service              25893 non-null  int64  \n",
      " 3   Departure/Arrival time convenient  25893 non-null  int64  \n",
      " 4   Ease of Online booking             25893 non-null  int64  \n",
      " 5   Food and drink                     25893 non-null  int64  \n",
      " 6   Online boarding                    25893 non-null  int64  \n",
      " 7   Seat comfort                       25893 non-null  int64  \n",
      " 8   Inflight entertainment             25893 non-null  int64  \n",
      " 9   On-board service                   25893 non-null  int64  \n",
      " 10  Leg room service                   25893 non-null  int64  \n",
      " 11  Baggage handling                   25893 non-null  int64  \n",
      " 12  Checkin service                    25893 non-null  int64  \n",
      " 13  Inflight service                   25893 non-null  int64  \n",
      " 14  Cleanliness                        25893 non-null  int64  \n",
      " 15  Departure Delay in Minutes         25893 non-null  int64  \n",
      " 16  Arrival Delay in Minutes           25893 non-null  float64\n",
      " 17  Gender_Female                      25893 non-null  uint8  \n",
      " 18  Gender_Male                        25893 non-null  uint8  \n",
      " 19  Customer Type_Loyal Customer       25893 non-null  uint8  \n",
      " 20  Customer Type_disloyal Customer    25893 non-null  uint8  \n",
      " 21  Type of Travel_Business travel     25893 non-null  uint8  \n",
      " 22  Type of Travel_Personal Travel     25893 non-null  uint8  \n",
      " 23  Class_Business                     25893 non-null  uint8  \n",
      " 24  Class_Eco                          25893 non-null  uint8  \n",
      " 25  Class_Eco Plus                     25893 non-null  uint8  \n",
      "dtypes: float64(1), int64(16), uint8(9)\n",
      "memory usage: 3.8 MB\n"
     ]
    }
   ],
   "source": [
    "X.info()"
   ]
  },
  {
   "cell_type": "code",
   "execution_count": 18,
   "id": "6b8f89e6",
   "metadata": {},
   "outputs": [
    {
     "data": {
      "text/plain": [
       "(25893, 22)"
      ]
     },
     "execution_count": 18,
     "metadata": {},
     "output_type": "execute_result"
    }
   ],
   "source": [
    "df.shape"
   ]
  },
  {
   "cell_type": "markdown",
   "id": "1e4785e6",
   "metadata": {},
   "source": [
    "# <a name='d' > Split the data </a>"
   ]
  },
  {
   "cell_type": "code",
   "execution_count": 19,
   "id": "4775c81a",
   "metadata": {},
   "outputs": [],
   "source": [
    "#Split the data\n",
    "X_train, X_val, y_train, y_val = \\\n",
    "        train_test_split(X, y, test_size=0.2, random_state=42)"
   ]
  },
  {
   "cell_type": "markdown",
   "id": "3e84ae94",
   "metadata": {},
   "source": [
    "# <a name='b' > Baseline Model  </a>"
   ]
  },
  {
   "cell_type": "code",
   "execution_count": 20,
   "id": "366347bf",
   "metadata": {},
   "outputs": [
    {
     "name": "stdout",
     "output_type": "stream",
     "text": [
      "0.806749058607705\n",
      "0.8074917937825835\n"
     ]
    }
   ],
   "source": [
    " \n",
    "linear_model = LogisticRegression()\n",
    "linear_model.fit(X_train, y_train)\n",
    "print( linear_model.score(X_train, y_train))\n",
    "print(linear_model.score(X_val, y_val))"
   ]
  },
  {
   "cell_type": "markdown",
   "id": "3ba7875b",
   "metadata": {},
   "source": [
    "# Pickle approach"
   ]
  },
  {
   "cell_type": "code",
   "execution_count": 82,
   "id": "646538d7",
   "metadata": {},
   "outputs": [],
   "source": [
    "# Save the Modle to file in the current working directory\n",
    "\n",
    "Pkl_Filename = \"Pickle_RL_Model.pkl\"  \n",
    "\n",
    "with open(Pkl_Filename, 'wb') as file:  \n",
    "    pickle.dump(linear_model, file)"
   ]
  },
  {
   "cell_type": "code",
   "execution_count": 83,
   "id": "66aaf3bc",
   "metadata": {},
   "outputs": [
    {
     "data": {
      "text/plain": [
       "LogisticRegression()"
      ]
     },
     "execution_count": 83,
     "metadata": {},
     "output_type": "execute_result"
    }
   ],
   "source": [
    "# Load the Model back from file\n",
    "with open(Pkl_Filename, 'rb') as file:  \n",
    "    Pickled_LR_Model = pickle.load(file)\n",
    "\n",
    "Pickled_LR_Model"
   ]
  },
  {
   "cell_type": "code",
   "execution_count": 85,
   "id": "f2c6c489",
   "metadata": {},
   "outputs": [
    {
     "name": "stdout",
     "output_type": "stream",
     "text": [
      "Test score: 80.75 %\n"
     ]
    },
    {
     "data": {
      "text/plain": [
       "array([1, 0, 1, ..., 0, 0, 0])"
      ]
     },
     "execution_count": 85,
     "metadata": {},
     "output_type": "execute_result"
    }
   ],
   "source": [
    "\n",
    "# Use the Reloaded Model to \n",
    "# Calculate the accuracy score and predict target values\n",
    "\n",
    "# Calculate the Score \n",
    "score = Pickled_LR_Model.score(X_val, y_val)  \n",
    "# Print the Score\n",
    "print(\"Test score: {0:.2f} %\".format(100 * score))  \n",
    "\n",
    "# Predict the Labels using the reloaded Model\n",
    "Ypredict = Pickled_LR_Model.predict(X_val)  \n",
    "\n",
    "Ypredict"
   ]
  },
  {
   "cell_type": "markdown",
   "id": "5e6b7671",
   "metadata": {},
   "source": [
    "# <a name='ss' > Standerd Scale with the Grid search </a>"
   ]
  },
  {
   "cell_type": "code",
   "execution_count": 21,
   "id": "9a4b3fbe",
   "metadata": {},
   "outputs": [
    {
     "name": "stdout",
     "output_type": "stream",
     "text": [
      "0.8709085642560587\n",
      "0.8710175709596447\n"
     ]
    }
   ],
   "source": [
    "\n",
    "std_scale= StandardScaler()\n",
    "std_scale.fit(X_train)\n",
    "Xtrain_scale = std_scale.transform(X_train)\n",
    "Xval_scale = std_scale.transform(X_val)\n",
    "\n",
    "linear_model.fit(Xtrain_scale, y_train)\n",
    "print(linear_model.score(Xtrain_scale, y_train))\n",
    "print(linear_model.score(Xval_scale ,y_val))"
   ]
  },
  {
   "cell_type": "code",
   "execution_count": 22,
   "id": "3bc8f64c",
   "metadata": {},
   "outputs": [
    {
     "name": "stdout",
     "output_type": "stream",
     "text": [
      "[1, 2, 3, 4, 5, 6, 7, 8, 9, 10, 11, 12, 13, 14, 15, 16, 17, 18, 19, 20, 21, 22, 23, 24, 25, 26, 27, 28, 29, 30, 31, 32, 33, 34, 35, 36, 37, 38, 39, 40, 41, 42, 43, 44, 45, 46, 47, 48, 49, 50, 51, 52, 53, 54, 55, 56, 57, 58, 59, 60, 61, 62, 63, 64, 65, 66, 67, 68, 69, 70, 71, 72, 73, 74, 75, 76, 77, 78, 79, 80, 81, 82, 83, 84, 85, 86, 87, 88, 89, 90, 91, 92, 93, 94, 95, 96, 97, 98, 99]\n",
      "{'n_neighbors': [1, 2, 3, 4, 5, 6, 7, 8, 9, 10, 11, 12, 13, 14, 15, 16, 17, 18, 19, 20, 21, 22, 23, 24, 25, 26, 27, 28, 29, 30, 31, 32, 33, 34, 35, 36, 37, 38, 39, 40, 41, 42, 43, 44, 45, 46, 47, 48, 49, 50, 51, 52, 53, 54, 55, 56, 57, 58, 59, 60, 61, 62, 63, 64, 65, 66, 67, 68, 69, 70, 71, 72, 73, 74, 75, 76, 77, 78, 79, 80, 81, 82, 83, 84, 85, 86, 87, 88, 89, 90, 91, 92, 93, 94, 95, 96, 97, 98, 99]}\n"
     ]
    }
   ],
   "source": [
    "# Grid search \n",
    "# define the parameter values that should be searched\n",
    "k_range = list(range(1, 100))\n",
    "print(k_range)\n",
    "# create a parameter grid: map the parameter names to the values that should be searched\n",
    "param_grid = dict(n_neighbors=k_range)\n",
    "print(param_grid)\n",
    "\n",
    "# instantiate the grid\n",
    "knn = KNeighborsClassifier(n_neighbors=5)\n",
    "grid = GridSearchCV(knn, param_grid, cv=10, scoring='accuracy')"
   ]
  },
  {
   "cell_type": "code",
   "execution_count": null,
   "id": "bd6af4da",
   "metadata": {
    "scrolled": false
   },
   "outputs": [],
   "source": [
    "# fit the grid with data\n",
    "grid.fit(X, y);\n",
    "# view the complete results\n",
    "grid.cv_results_"
   ]
  },
  {
   "cell_type": "markdown",
   "id": "b6f4f30e",
   "metadata": {},
   "source": [
    "# Examine the best model"
   ]
  },
  {
   "cell_type": "code",
   "execution_count": null,
   "id": "b77bc396",
   "metadata": {},
   "outputs": [],
   "source": [
    "\n",
    "print(\"Best params: \", grid.best_params_)\n",
    "print(\"Best estimator: \", grid.best_estimator_)\n",
    "print(\"Best score: \", grid.best_score_)"
   ]
  },
  {
   "cell_type": "code",
   "execution_count": null,
   "id": "981d166a",
   "metadata": {},
   "outputs": [],
   "source": [
    "knn_best = grid.best_estimator_"
   ]
  },
  {
   "cell_type": "markdown",
   "id": "b5b42809",
   "metadata": {},
   "source": [
    "# <a name='ssss' > Decision Tree &  GridSearchCV Tune the parameters  </a>"
   ]
  },
  {
   "cell_type": "code",
   "execution_count": null,
   "id": "a60b2511",
   "metadata": {},
   "outputs": [],
   "source": [
    "\n",
    "decisiontree = DecisionTreeClassifier()\n",
    "xtrain, xtest, ytrain, ytest = train_test_split(X, y, test_size=0.3)\n",
    "decisiontree.fit(xtrain, ytrain)\n",
    "print(decisiontree.score(xtrain, ytrain))\n",
    "print(decisiontree.score(xtest, ytest))\n"
   ]
  },
  {
   "cell_type": "code",
   "execution_count": null,
   "id": "b0b90cd0",
   "metadata": {},
   "outputs": [],
   "source": [
    "# Save the Modle to file in the current working directory\n",
    "\n",
    "Pk2_Filename = \"Pickle_RL_Model.pk2\"  \n",
    "\n",
    "with open(Pk2_Filename, 'wb') as file:  \n",
    "    pickle.dump(decisiontree, file)"
   ]
  },
  {
   "cell_type": "code",
   "execution_count": null,
   "id": "6eacf62b",
   "metadata": {},
   "outputs": [],
   "source": [
    "# Load the Model back from file\n",
    "with open(Pk2_Filename, 'rb') as file:  \n",
    "    Pickled_LR_Model = pickle.load(file)\n",
    "\n",
    "Pickled_LR_Model"
   ]
  },
  {
   "cell_type": "code",
   "execution_count": null,
   "id": "340ecfbc",
   "metadata": {},
   "outputs": [],
   "source": [
    "# Use the Reloaded Model to \n",
    "# Calculate the accuracy score and predict target values\n",
    "\n",
    "# Calculate the Score \n",
    "score = Pickled_LR_Model.score(X_val, y_val)  \n",
    "# Print the Score\n",
    "print(\"Test score: {0:.2f} %\".format(100 * score))  \n",
    "\n",
    "# Predict the Labels using the reloaded Model\n",
    "Ypredict = Pickled_LR_Model.predict(X_val)  \n",
    "\n",
    "Ypredict"
   ]
  },
  {
   "cell_type": "code",
   "execution_count": null,
   "id": "d46d0655",
   "metadata": {},
   "outputs": [],
   "source": [
    "# GridSearchCV Tune the parameters \n",
    "\n",
    "params_dict = {\n",
    "    'max_depth' : [3, 5, 7, 8, 11, 12],\n",
    "    'min_samples_split' : [2, 3, 5, 9],\n",
    "    'criterion' : ['gini', 'entropy']\n",
    "}\n",
    "\n",
    "grid = GridSearchCV(decisiontree, \n",
    "                   param_grid= params_dict,\n",
    "                   cv = 10, \n",
    "                   verbose=1,\n",
    "                   n_jobs=-1)\n",
    "grid.fit(xtrain, ytrain)"
   ]
  },
  {
   "cell_type": "code",
   "execution_count": null,
   "id": "3735f2ee",
   "metadata": {},
   "outputs": [],
   "source": [
    "# Save the model to disk"
   ]
  },
  {
   "cell_type": "code",
   "execution_count": null,
   "id": "95c7d285",
   "metadata": {},
   "outputs": [],
   "source": [
    "#DS_T = 'decisiontree.sav'"
   ]
  },
  {
   "cell_type": "code",
   "execution_count": null,
   "id": "2d8ca40d",
   "metadata": {},
   "outputs": [],
   "source": [
    "#pickle.dump(decisiontree,open('DS_T','wb'))"
   ]
  },
  {
   "cell_type": "code",
   "execution_count": null,
   "id": "8e7a19e2",
   "metadata": {},
   "outputs": [],
   "source": [
    "#loaded_model=pickle.load(open(Tree ,'rb'))\n",
    "#result=loaded_model.score(xtest,ytest)\n",
    "#print(result)"
   ]
  },
  {
   "cell_type": "code",
   "execution_count": null,
   "id": "05b0171e",
   "metadata": {
    "scrolled": false
   },
   "outputs": [],
   "source": [
    "grid.cv_results_"
   ]
  },
  {
   "cell_type": "markdown",
   "id": "55a5580d",
   "metadata": {},
   "source": [
    "# Examine the best model"
   ]
  },
  {
   "cell_type": "code",
   "execution_count": null,
   "id": "d7f31f2b",
   "metadata": {
    "scrolled": true
   },
   "outputs": [],
   "source": [
    "\n",
    "print(\"Best params: \", grid.best_params_)\n",
    "print(\"Best estimator: \", grid.best_estimator_)\n",
    "print(\"Best score: \", grid.best_score_)"
   ]
  },
  {
   "cell_type": "markdown",
   "id": "24b09da2",
   "metadata": {},
   "source": [
    "# <a name='Rf' >Random Forest with GridSearchCV Tune the parameters</a>"
   ]
  },
  {
   "cell_type": "code",
   "execution_count": null,
   "id": "3586256e",
   "metadata": {},
   "outputs": [],
   "source": [
    "\n",
    "\n",
    "randomforest = RandomForestClassifier(n_estimators=100)\n",
    "xtrain, xtest, ytrain, ytest = train_test_split(X, y, test_size=0.3)\n",
    "randomforest.fit(xtrain, ytrain)\n",
    "print(randomforest.score(xtrain, ytrain))\n",
    "print(randomforest.score(xtest, ytest))\n"
   ]
  },
  {
   "cell_type": "code",
   "execution_count": null,
   "id": "fbe3916f",
   "metadata": {},
   "outputs": [],
   "source": [
    "# Save the Modle to file in the current working directory\n",
    "\n",
    "Pk3_Filename = \"Pickle_RL_Model.pk3\"  \n",
    "\n",
    "with open(Pk3_Filename, 'wb') as file:  \n",
    "    pickle.dump(randomforest, file)"
   ]
  },
  {
   "cell_type": "code",
   "execution_count": null,
   "id": "ce72eb99",
   "metadata": {},
   "outputs": [],
   "source": [
    "# Load the Model back from file\n",
    "with open(Pk3_Filename, 'rb') as file:  \n",
    "    Pickled_LR_Model = pickle.load(file)\n",
    "\n",
    "Pickled_LR_Model"
   ]
  },
  {
   "cell_type": "code",
   "execution_count": null,
   "id": "2ddfb192",
   "metadata": {},
   "outputs": [],
   "source": [
    "# Use the Reloaded Model to \n",
    "# Calculate the accuracy score and predict target values\n",
    "\n",
    "# Calculate the Score \n",
    "score = Pickled_LR_Model.score(xtest, ytest)  \n",
    "# Print the Score\n",
    "print(\"Test score: {0:.2f} %\".format(100 * score))  \n",
    "\n",
    "# Predict the Labels using the reloaded Model\n",
    "Ypredict = Pickled_LR_Model.predict(xtest)  \n",
    "\n",
    "Ypredict"
   ]
  },
  {
   "cell_type": "code",
   "execution_count": null,
   "id": "e8d4cffa",
   "metadata": {},
   "outputs": [],
   "source": [
    "# GridSearchCV Tune the parameters\n",
    "params_dict = {\n",
    "    'n_estimators': [10, 20, 40, 50, 70],\n",
    "    'max_depth' : [3, 5, 7, 8, 11, 12],\n",
    "    'criterion' : ['gini',  'entropy' ],\n",
    "    'min_samples_split' : [  2 ,  3,  5 ,  9 ],\n",
    "    'max_features' : [ 'auto' ,  'sqrt' ,   'log2' ]\n",
    "}\n",
    "\n",
    "grid = GridSearchCV(randomforest, \n",
    "                   param_grid= params_dict,\n",
    "                   cv = 10, \n",
    "                   verbose=1,\n",
    "                   n_jobs=-1)\n",
    "grid.fit(xtrain, ytrain)"
   ]
  },
  {
   "cell_type": "code",
   "execution_count": null,
   "id": "74dfef18",
   "metadata": {
    "scrolled": false
   },
   "outputs": [],
   "source": [
    "grid.cv_results_"
   ]
  },
  {
   "cell_type": "markdown",
   "id": "db975b56",
   "metadata": {},
   "source": [
    "# Examine the best model"
   ]
  },
  {
   "cell_type": "code",
   "execution_count": null,
   "id": "73505c02",
   "metadata": {},
   "outputs": [],
   "source": [
    "\n",
    "print(\"Best params: \", grid.best_params_)\n",
    "print(\"Best estimator: \", grid.best_estimator_)\n",
    "print(\"Best score: \", grid.best_score_)"
   ]
  },
  {
   "cell_type": "code",
   "execution_count": null,
   "id": "0eca9b85",
   "metadata": {},
   "outputs": [],
   "source": [
    "rf_best =grid.best_estimator_"
   ]
  },
  {
   "cell_type": "markdown",
   "id": "17234827",
   "metadata": {},
   "source": [
    "# <a name='we' > Soft voting</a>"
   ]
  },
  {
   "cell_type": "code",
   "execution_count": null,
   "id": "ec05b59d",
   "metadata": {},
   "outputs": [],
   "source": [
    "X_train, X_test, y_train, y_test = train_test_split(X, y, random_state=123)"
   ]
  },
  {
   "cell_type": "code",
   "execution_count": null,
   "id": "ee73b145",
   "metadata": {},
   "outputs": [],
   "source": [
    "lr_model = linear_model.LogisticRegression()\n",
    "knn_model = neighbors.KNeighborsClassifier()\n",
    "rf_model = ensemble.RandomForestClassifier()"
   ]
  },
  {
   "cell_type": "code",
   "execution_count": null,
   "id": "9870d24d",
   "metadata": {},
   "outputs": [],
   "source": [
    "model_names = [\"lr_model\",\"knn_best\",\"rf_best\"]"
   ]
  },
  {
   "cell_type": "code",
   "execution_count": null,
   "id": "04d67f59",
   "metadata": {},
   "outputs": [],
   "source": [
    "for model_name in model_names:\n",
    "    curr_model = eval(model_name)\n",
    "    curr_model.fit(X_train, y_train)\n",
    "    print(f'{model_name} Train score: {curr_model.score(X_train, y_train)}')\n",
    "    print(f'{model_name} Test score: {curr_model.score(X_test, y_test)}')\n",
    "    print('------')"
   ]
  },
  {
   "cell_type": "code",
   "execution_count": null,
   "id": "f77b17eb",
   "metadata": {},
   "outputs": [],
   "source": [
    "model_vars = [eval(n) for n in model_names]\n",
    "model_list = list(zip(model_names, model_vars))"
   ]
  },
  {
   "cell_type": "code",
   "execution_count": null,
   "id": "52199782",
   "metadata": {},
   "outputs": [],
   "source": [
    "model_list"
   ]
  },
  {
   "cell_type": "markdown",
   "id": "2d2bfeaf",
   "metadata": {},
   "source": [
    "# create voting classifier"
   ]
  },
  {
   "cell_type": "code",
   "execution_count": null,
   "id": "85e7083a",
   "metadata": {},
   "outputs": [],
   "source": [
    "\n",
    "voting_classifer = VotingClassifier(estimators=model_list,\n",
    "                                    voting='soft', #<-- sklearn calls this soft voting\n",
    "                                    n_jobs=-1)\n",
    "voting_classifer.fit(X_train, y_train)"
   ]
  },
  {
   "cell_type": "markdown",
   "id": "bcfb60b7",
   "metadata": {},
   "source": [
    "# <a name='sc' >Stacking Classifier </a>"
   ]
  },
  {
   "cell_type": "code",
   "execution_count": null,
   "id": "843843b9",
   "metadata": {},
   "outputs": [],
   "source": [
    "\n",
    "stacked = StackingClassifier(\n",
    "    classifiers=model_vars, meta_classifier=LogisticRegression(), use_probas=False)"
   ]
  },
  {
   "cell_type": "code",
   "execution_count": null,
   "id": "65d63eef",
   "metadata": {},
   "outputs": [],
   "source": [
    "stacked.fit(X_train, y_train)"
   ]
  },
  {
   "cell_type": "code",
   "execution_count": null,
   "id": "2ebb82b9",
   "metadata": {},
   "outputs": [],
   "source": [
    "y_pred = stacked.predict(X_test)\n",
    "accuracy_score(y_test, y_pred)"
   ]
  },
  {
   "cell_type": "code",
   "execution_count": null,
   "id": "88aa8ddd",
   "metadata": {},
   "outputs": [],
   "source": [
    "y_pred1 = stacked.predict(X_train)\n",
    "accuracy_score(y_train, y_pred1)"
   ]
  },
  {
   "cell_type": "markdown",
   "id": "cbf4efb3",
   "metadata": {},
   "source": [
    "# <a name='cm' >Confution Matrix </a>"
   ]
  },
  {
   "cell_type": "code",
   "execution_count": null,
   "id": "f6812bef",
   "metadata": {},
   "outputs": [],
   "source": [
    "y_pred= knn_tune.predict(X_val)"
   ]
  },
  {
   "cell_type": "code",
   "execution_count": null,
   "id": "4d774f78",
   "metadata": {},
   "outputs": [],
   "source": [
    " precision_score(y_pred,y_val)"
   ]
  },
  {
   "cell_type": "code",
   "execution_count": null,
   "id": "b386bf12",
   "metadata": {},
   "outputs": [],
   "source": [
    " recall_score(y_pred,y_val)"
   ]
  },
  {
   "cell_type": "code",
   "execution_count": null,
   "id": "ffcb71bf",
   "metadata": {},
   "outputs": [],
   "source": [
    "f1_score(y_val, y_pred)"
   ]
  },
  {
   "cell_type": "code",
   "execution_count": null,
   "id": "c3017f6a",
   "metadata": {},
   "outputs": [],
   "source": [
    "precision_recall_curve(y_pred,y_val)"
   ]
  },
  {
   "cell_type": "code",
   "execution_count": null,
   "id": "8e6adb4e",
   "metadata": {},
   "outputs": [],
   "source": [
    "from sklearn.metrics import confusion_matrix\n",
    "print(\"kNN confusion matrix: \\n\\n\", confusion_matrix(y_val,knn_tune.predict(X_val)))"
   ]
  },
  {
   "cell_type": "code",
   "execution_count": null,
   "id": "23479d3c",
   "metadata": {},
   "outputs": [],
   "source": [
    "precision_curve, recall_curve, threshold_curve = precision_recall_curve(y_val,knn_tune.predict_proba(X_val)[:,1] )\n",
    "plt.figure(dpi=80)\n",
    "plt.plot(threshold_curve, precision_curve[1:],label='precision')\n",
    "plt.plot(threshold_curve, recall_curve[1:], label='recall')\n",
    "plt.legend(loc='lower left')\n",
    "plt.xlabel('Threshold (above this probability, label as fraud)');\n",
    "plt.title('Precision and Recall Curves');"
   ]
  },
  {
   "cell_type": "code",
   "execution_count": null,
   "id": "78fab683",
   "metadata": {},
   "outputs": [],
   "source": [
    "# Print confusion matrix for kNN\n",
    "knn_confusion = confusion_matrix(y_test,knn_tune.predict(X_test))\n",
    "plt.figure(dpi=150)\n",
    "sns.heatmap(knn_confusion, cmap=plt.cm.Blues, annot=True, square=True) \n",
    "plt.xlabel('Predicted species')\n",
    "plt.ylabel('Actual species')\n",
    "plt.title('KNN confusion matrix');"
   ]
  },
  {
   "cell_type": "markdown",
   "id": "255bff39",
   "metadata": {},
   "source": [
    "# <a name='jp' > XGboost </a>"
   ]
  },
  {
   "cell_type": "code",
   "execution_count": null,
   "id": "51d41704",
   "metadata": {},
   "outputs": [],
   "source": [
    "X_train, X_test, y_train, y_test = train_test_split(X, y, test_size=0.2, random_state=42)"
   ]
  },
  {
   "cell_type": "code",
   "execution_count": null,
   "id": "f1b3b96b",
   "metadata": {},
   "outputs": [],
   "source": [
    "gbm = xgb.XGBClassifier( \n",
    "                        n_estimators=30000,\n",
    "                        max_depth=4,\n",
    "                        objective='binary:logistic', #new objective\n",
    "                        learning_rate=.05, \n",
    "                        subsample=.8,\n",
    "                        min_child_weight=3,\n",
    "                        colsample_bytree=.8\n",
    "                       )\n",
    "\n",
    "eval_set=[(X_train,y_train),(X_test,y_test)]\n",
    "fit_model = gbm.fit( \n",
    "                    X_train, y_train, \n",
    "                    eval_set=eval_set,\n",
    "                    eval_metric='error', #new evaluation metric: classification error (could also use AUC, e.g.)\n",
    "                    early_stopping_rounds=50,\n",
    "                    verbose=False\n",
    "                   )\n",
    "\n",
    "accuracy_score(y_test, gbm.predict(X_test, ntree_limit=gbm.best_ntree_limit)) "
   ]
  },
  {
   "cell_type": "code",
   "execution_count": null,
   "id": "60f58fd8",
   "metadata": {},
   "outputs": [],
   "source": [
    "params = {\n",
    "        'min_child_weight': [1, 5, 10],\n",
    "        'gamma': [0.5, 1, 1.5, 2, 5],\n",
    "        'subsample': [0.6, 0.8, 1.0],\n",
    "        'colsample_bytree': [0.6, 0.8, 1.0],\n",
    "        'max_depth': [3, 4, 5]\n",
    "        }"
   ]
  },
  {
   "cell_type": "code",
   "execution_count": null,
   "id": "ff906312",
   "metadata": {},
   "outputs": [],
   "source": [
    "xgb.plot_importance(gbm, importance_type='gain')"
   ]
  },
  {
   "cell_type": "code",
   "execution_count": null,
   "id": "a772978f",
   "metadata": {},
   "outputs": [],
   "source": [
    "model = xgb.XGBClassifier(learning_rate=0.02, n_estimators=600, objective='binary:logistic')"
   ]
  },
  {
   "cell_type": "code",
   "execution_count": null,
   "id": "a57e6921",
   "metadata": {},
   "outputs": [],
   "source": [
    "from sklearn.model_selection import RandomizedSearchCV\n",
    "\n",
    "param_comb = 70\n",
    "\n",
    "random_search = RandomizedSearchCV(model, param_distributions=params, n_iter=param_comb, scoring='accuracy', n_jobs=-1, cv=10, verbose=3, random_state=42)\n",
    "\n",
    "random_search.fit(X_train, y_train) "
   ]
  },
  {
   "cell_type": "code",
   "execution_count": null,
   "id": "594dd267",
   "metadata": {},
   "outputs": [],
   "source": [
    "print('Best score:')\n",
    "print(random_search.best_score_)"
   ]
  },
  {
   "cell_type": "code",
   "execution_count": null,
   "id": "ef05c9e9",
   "metadata": {},
   "outputs": [],
   "source": [
    "print('Best estimator:')\n",
    "print(random_search.best_estimator_)"
   ]
  },
  {
   "cell_type": "code",
   "execution_count": null,
   "id": "52e4a7ed",
   "metadata": {},
   "outputs": [],
   "source": [
    "tuned_xgb = random_search.best_estimator_"
   ]
  }
 ],
 "metadata": {
  "kernelspec": {
   "display_name": "Python 3",
   "language": "python",
   "name": "python3"
  },
  "language_info": {
   "codemirror_mode": {
    "name": "ipython",
    "version": 3
   },
   "file_extension": ".py",
   "mimetype": "text/x-python",
   "name": "python",
   "nbconvert_exporter": "python",
   "pygments_lexer": "ipython3",
   "version": "3.8.8"
  }
 },
 "nbformat": 4,
 "nbformat_minor": 5
}
